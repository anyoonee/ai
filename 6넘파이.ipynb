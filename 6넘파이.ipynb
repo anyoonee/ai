{
  "nbformat": 4,
  "nbformat_minor": 0,
  "metadata": {
    "colab": {
      "provenance": [],
      "authorship_tag": "ABX9TyNgjGJ4V53V0YQmp2JxMuwI",
      "include_colab_link": true
    },
    "kernelspec": {
      "name": "python3",
      "display_name": "Python 3"
    },
    "language_info": {
      "name": "python"
    }
  },
  "cells": [
    {
      "cell_type": "markdown",
      "metadata": {
        "id": "view-in-github",
        "colab_type": "text"
      },
      "source": [
        "<a href=\"https://colab.research.google.com/github/anyoonee/ai/blob/%2Bphython/6%EB%84%98%ED%8C%8C%EC%9D%B4.ipynb\" target=\"_parent\"><img src=\"https://colab.research.google.com/assets/colab-badge.svg\" alt=\"Open In Colab\"/></a>"
      ]
    },
    {
      "cell_type": "code",
      "source": [
        "! pip install numpy;\n",
        "! pip install pandas;"
      ],
      "metadata": {
        "colab": {
          "base_uri": "https://localhost:8080/"
        },
        "id": "iAeGEH-jBTFS",
        "outputId": "e347fa54-87a3-4b42-f158-ddc918010e4a"
      },
      "execution_count": null,
      "outputs": [
        {
          "output_type": "stream",
          "name": "stdout",
          "text": [
            "Requirement already satisfied: numpy in /usr/local/lib/python3.10/dist-packages (1.25.2)\n",
            "Requirement already satisfied: pandas in /usr/local/lib/python3.10/dist-packages (1.5.3)\n",
            "Requirement already satisfied: python-dateutil>=2.8.1 in /usr/local/lib/python3.10/dist-packages (from pandas) (2.8.2)\n",
            "Requirement already satisfied: pytz>=2020.1 in /usr/local/lib/python3.10/dist-packages (from pandas) (2023.4)\n",
            "Requirement already satisfied: numpy>=1.21.0 in /usr/local/lib/python3.10/dist-packages (from pandas) (1.25.2)\n",
            "Requirement already satisfied: six>=1.5 in /usr/local/lib/python3.10/dist-packages (from python-dateutil>=2.8.1->pandas) (1.16.0)\n"
          ]
        }
      ]
    },
    {
      "cell_type": "code",
      "source": [
        "# 배열생성\n",
        "import numpy as np;\n",
        "\n",
        "# 리스트를 생성하고 배열로 변환하기\n",
        "list1 = [1,2,3,4]\n",
        "a = np.array(list1)\n",
        "print('a.shape:',a.shape)\n",
        "print('a[0]:',a[0])\n",
        "\n",
        "# 2차원 배열생성하기\n",
        "b = np.array([[1,2,3],[4,5,6]])\n",
        "print('b.shape:', b.shape)\n",
        "print('b[0,0]:', b[0,0])\n",
        "print('b[0]:',b[0])"
      ],
      "metadata": {
        "colab": {
          "base_uri": "https://localhost:8080/"
        },
        "id": "K34ohQ78IT0C",
        "outputId": "fc5357b7-28e4-473b-b6ce-e6daade341a1"
      },
      "execution_count": null,
      "outputs": [
        {
          "output_type": "stream",
          "name": "stdout",
          "text": [
            "a.shape: (4,)\n",
            "a[0]: 1\n",
            "b.shape: (2, 3)\n",
            "b[0,0]: 1\n",
            "b[0]: [1 2 3]\n"
          ]
        }
      ]
    },
    {
      "cell_type": "code",
      "source": [
        "# 배열생성 함수\n",
        "# 실수형 배열 생성하기\n",
        "a= np.array([1,2], dtype=np.float64)\n",
        "print(a.dtype)\n",
        "\n",
        "#정수형 배열로 변환하기\n",
        "a_i8 = a.astype(np.int8)\n",
        "print(a_i8.dtype)"
      ],
      "metadata": {
        "colab": {
          "base_uri": "https://localhost:8080/"
        },
        "id": "m7AwLte-Jrr6",
        "outputId": "1430e5e6-50f6-4c8b-db49-31f87cf484dc"
      },
      "execution_count": null,
      "outputs": [
        {
          "output_type": "stream",
          "name": "stdout",
          "text": [
            "float64\n",
            "int8\n"
          ]
        }
      ]
    },
    {
      "cell_type": "code",
      "source": [
        "# 배열 속성 호출\n",
        "arr = np.array([[0,1,2],[3,4,5]])\n",
        "\n",
        "print('type(arr):', type(arr))\n",
        "print('arr.ndim:', arr.ndim)\n",
        "print('arr.dtype:', arr.dtype)\n",
        "print('arr.itemsize:', arr.itemsize)\n",
        "print('arr.size:', arr.size)\n",
        "print('arr.nbytes:', arr.nbytes)\n",
        "print('arr.T:\\n', arr.T)\n",
        "print('arr.shape:', arr.shape)"
      ],
      "metadata": {
        "colab": {
          "base_uri": "https://localhost:8080/"
        },
        "id": "9YRQpOjXMaoI",
        "outputId": "5170704d-735d-4648-c638-de239066079e"
      },
      "execution_count": null,
      "outputs": [
        {
          "output_type": "stream",
          "name": "stdout",
          "text": [
            "type(arr): <class 'numpy.ndarray'>\n",
            "arr.ndim: 2\n",
            "arr.dtype: int64\n",
            "arr.itemsize: 8\n",
            "arr.size: 6\n",
            "arr.nbytes: 48\n",
            "arr.T:\n",
            " [[0 3]\n",
            " [1 4]\n",
            " [2 5]]\n",
            "arr.shape: (2, 3)\n"
          ]
        }
      ]
    },
    {
      "cell_type": "code",
      "source": [
        "# 배열 모양 변경\n",
        "#1차원 배열 생성\n",
        "a=np.arange(8)\n",
        "print('a\\n', a)\n",
        "\n",
        "#다차원 배열로 변경\n",
        "a.shape=(2,4)\n",
        "print('shape\\n', a.flatten())\n",
        "\n",
        "#resize 함수로 모양 변경\n",
        "a.resize((4,2))\n",
        "print('resize\\n',a)"
      ],
      "metadata": {
        "id": "QKck21bwTjaz"
      },
      "execution_count": null,
      "outputs": []
    },
    {
      "cell_type": "code",
      "source": [
        "# 행렬의 행과 열 교차\n",
        "a = np.array([[0,1,2],[3,4,5]])\n",
        "print('a\\n', a)\n",
        "\n",
        "b= a.transpose()\n",
        "print('b\\n',b)\n",
        "\n",
        "c=a.T\n",
        "print('c\\n',c)"
      ],
      "metadata": {
        "id": "iefuT4VWUZbR"
      },
      "execution_count": null,
      "outputs": []
    },
    {
      "cell_type": "code",
      "execution_count": null,
      "metadata": {
        "colab": {
          "base_uri": "https://localhost:8080/"
        },
        "id": "5mhj0zPO0hY9",
        "outputId": "b7c14abe-9c31-4aab-c295-44cda18c6cf6"
      },
      "outputs": [
        {
          "output_type": "stream",
          "name": "stdout",
          "text": [
            "[ 0  1  2  3  4  5  6  7  8  9 10 11]\n",
            "[ 0  1  2  3  4  5  6  7  8  9 10 11]\n",
            "[[ 0  1  2  3]\n",
            " [ 4  5  6  7]\n",
            " [ 8  9 10 11]]\n",
            "[[ 0]\n",
            " [ 1]\n",
            " [ 2]\n",
            " [ 3]\n",
            " [ 4]\n",
            " [ 5]\n",
            " [ 6]\n",
            " [ 7]\n",
            " [ 8]\n",
            " [ 9]\n",
            " [10]\n",
            " [11]]\n",
            "[[ 0  1  2]\n",
            " [ 3  4  5]\n",
            " [ 6  7  8]\n",
            " [ 9 10 11]]\n",
            "[ 0  1  2  3  4  5  6  7  8  9 10 11]\n"
          ]
        }
      ],
      "source": [
        "# reshaping\n",
        "b = np.arange(12) # 1차원 벡터 생성\n",
        "print(b)\n",
        "b.shape\n",
        "#b.shape = 2,-1 # 요소의 갯수가 안맞으니까 오류\n",
        "\n",
        "print(b)\n",
        "b.shape\n",
        "b.shape = 3,-1\n",
        "print(b)\n",
        "b.shape\n",
        "b.shape=-1,1\n",
        "print(b)\n",
        "b.shape\n",
        "b.shape=-1,3\n",
        "print(b)\n",
        "b.shape\n",
        "b.shape=-1\n",
        "print(b)"
      ]
    },
    {
      "cell_type": "markdown",
      "source": [
        "- 자료형\n",
        "  - int형 (정수)\n",
        "   - int64,int16,int8, unit64\n",
        "   - -2^63 ~ 2^62 -1 범위의 정수를 표현할 수 있다.\n",
        "   - -2^15 ~ 2^15-1\n",
        "   - 0 ~ 2^127 unit64의 정수표현의 범위 양의정수만 구한다.\n",
        "\n",
        "  - float형 (실수)\n",
        "   - float64, float32, float16\n",
        "   - 자료저장 모습: 부호비트1비트     지수부7비트  가수부(8 or 24 or 58)\n",
        "   - 소수점 아래를 저장하는 공간이 많아지게 하는 것\n",
        "   - 실수의 기본은 float64이다.\n",
        "\n",
        "  - complex형 (복소수)\n",
        "   - complex128, complex64"
      ],
      "metadata": {
        "id": "RQu8eBHoD6_q"
      }
    },
    {
      "cell_type": "code",
      "source": [
        "# int 32의 자료표현의 범위 -2147483648 ~ 2147483647까지 정수표현의 범위\n",
        "a=np.array([1,3,5,7,9],np.int8) # 8비트 -2^7~ + 2^7\n",
        "print(a)\n",
        "a.dtype\n",
        "a1 = np.array([2147483646, 2147483647, 2147483649], np.int64)\n",
        "print(a1)\n",
        "a2 = np.array([2**63, 2**63+1, 2**63+2], np.uint64)\n",
        "print(a2)\n",
        "a2.dtype\n",
        "a3=np.array([2**62, -2**62])\n",
        "print(a3)\n",
        "a3.dtype\n",
        "a4 = np.array([1,3,5,7,9]) # 64비트로 처리\n",
        "print(a4)\n",
        "a4.dtype"
      ],
      "metadata": {
        "colab": {
          "base_uri": "https://localhost:8080/"
        },
        "id": "DI6D1r9vHSh0",
        "outputId": "94052717-5214-4ae8-dd72-413b19166a99"
      },
      "execution_count": null,
      "outputs": [
        {
          "output_type": "stream",
          "name": "stdout",
          "text": [
            "[1 3 5 7 9]\n",
            "[2147483646 2147483647 2147483649]\n",
            "[9223372036854775808 9223372036854775809 9223372036854775810]\n",
            "[ 4611686018427387904 -4611686018427387904]\n",
            "[1 3 5 7 9]\n"
          ]
        },
        {
          "output_type": "execute_result",
          "data": {
            "text/plain": [
              "dtype('int64')"
            ]
          },
          "metadata": {},
          "execution_count": 25
        }
      ]
    },
    {
      "cell_type": "code",
      "source": [
        "# 실수형\n",
        "a = np.array(3.141592653589793, np.float16)\n",
        "print(a)\n",
        "a.dtype\n",
        "a2 = np.array(3.14)\n",
        "print(a2)\n",
        "a2.dtype"
      ],
      "metadata": {
        "colab": {
          "base_uri": "https://localhost:8080/"
        },
        "id": "6x5ZjrmNQbaq",
        "outputId": "4f0b76db-b2cf-46a9-f41e-4d372d1b27c4"
      },
      "execution_count": null,
      "outputs": [
        {
          "output_type": "stream",
          "name": "stdout",
          "text": [
            "3.14\n",
            "3.14\n"
          ]
        },
        {
          "output_type": "execute_result",
          "data": {
            "text/plain": [
              "dtype('float64')"
            ]
          },
          "metadata": {},
          "execution_count": 29
        }
      ]
    },
    {
      "cell_type": "code",
      "source": [
        "# 복소수\n",
        "a= np.array([1,2j, 3+4j, 2.72+3.14j])\n",
        "print(a)\n",
        "a.dtype\n",
        "a.real # 실수만 추출\n",
        "a.imag # 허수만 추출\n",
        "print(a.real.dtype, '!!')\n",
        "print(a.imag.dtype,'~~')"
      ],
      "metadata": {
        "colab": {
          "base_uri": "https://localhost:8080/"
        },
        "id": "7o4fNjngTU5S",
        "outputId": "917eaced-79e2-4409-fa2b-6d9d23b5d04f"
      },
      "execution_count": null,
      "outputs": [
        {
          "output_type": "stream",
          "name": "stdout",
          "text": [
            "[1.  +0.j   0.  +2.j   3.  +4.j   2.72+3.14j]\n"
          ]
        },
        {
          "output_type": "execute_result",
          "data": {
            "text/plain": [
              "array([0.  , 2.  , 4.  , 3.14])"
            ]
          },
          "metadata": {},
          "execution_count": 30
        }
      ]
    },
    {
      "cell_type": "markdown",
      "source": [
        "1.인덱싱 indexing 1) 1DArray 2) 2DArray\n",
        "2.슬라이싱 slicing 1) 1DArray 2) 2DArray\n",
        "3. iterating 1) 1DArray 2) 2DArray"
      ],
      "metadata": {
        "id": "KtrWKEl6WBH1"
      }
    },
    {
      "cell_type": "code",
      "source": [
        "# 인덱싱 indexing 1) 1DArray 2) 2DArray\n",
        "a=np.array([1,3,5,7,9])\n",
        "print(a)\n",
        "print(a.ndim)\n",
        "print(a.shape)\n",
        "print(a[0])\n",
        "print(a[3])\n",
        "print(a[4])\n",
        "print(a[-1])\n",
        "print(a[-2])"
      ],
      "metadata": {
        "colab": {
          "base_uri": "https://localhost:8080/"
        },
        "id": "MDFGlutTWAHy",
        "outputId": "9fa8f547-2b93-4a63-bd58-e4384804963f"
      },
      "execution_count": null,
      "outputs": [
        {
          "output_type": "stream",
          "name": "stdout",
          "text": [
            "[1 3 5 7 9]\n",
            "1\n",
            "(5,)\n",
            "1\n",
            "7\n",
            "9\n",
            "9\n",
            "7\n"
          ]
        }
      ]
    },
    {
      "cell_type": "code",
      "source": [
        "# 인덱싱 indexing 2)2DArray\n",
        "a2 = np([1,3,5],[2,4,6])\n",
        "print(a2)\n",
        "print(a2.ndim)\n",
        "print(a2.shape)\n",
        "# 1,5,4 추출하기\n",
        "print(a2[0,0],a2[0,2],a2[1,1])\n",
        "#6,3\n",
        "print(a2[1,2],a2[0,1])\n",
        "#3값을 13으로\n",
        "a2[0,1]=13\n",
        "#2값을 25로\n",
        "a2[1,0]=25\n",
        "print(a2)\n",
        "#0번행 전체의 값에다 +10\n",
        "print(a2[0])\n",
        "print(a2[0,:])\n",
        "print(a2[0,0:3])\n",
        "a2[0] = a2[0] + 10\n",
        "print(a2[0])\n",
        "#1번행에 2곱하기\n",
        "a[1] = a[1] *2\n",
        "#1번열에 2곱하기\n",
        "a2[:,1:2] = a2[:, 1:2] /2\n",
        "print(a2)\n"
      ],
      "metadata": {
        "id": "7xSSugfjWxo6"
      },
      "execution_count": null,
      "outputs": []
    },
    {
      "cell_type": "code",
      "source": [
        "# 슬라이싱 slicing 1) 1DArray 2) 2DArray\n",
        "print(a.shape)\n",
        "print(a[0,])\n",
        "print(a[1:])\n",
        "print(a[2:])\n",
        "print(a[3:])\n",
        "print(a[:0]) #[]\n",
        "print(a[:1])\n",
        "print(a[:2])\n",
        "print(a[:-1])\n",
        "pirnt(a[:-2])\n",
        "print(a[1:4]) # 357\n",
        "\n",
        "a2=np.arange(10) # 0~9까지 연속적인 수의 배열만들기\n",
        "print(a2)\n",
        "print(a2[::2]) # 처음 인덱스(포함): 끝인덱스(미포함):증가인덱스 증가가+1,-1이면 생략 [0 2 4 6 8]\n",
        "print(a2[::3]) # [0 3 6 9]\n",
        "print(a2[::-1])\n",
        "print(a2[::-2])\n",
        "print(a2[1::2])\n",
        "print(a2[:-2:2])\n",
        "print(a2[:-4:2]) # [0,2,4]\n",
        "print(a2[2:-2:2])#[2,4,6]\n",
        "\n",
        "a3=np.arange(15)\n",
        "# 1,3,5,7,9 출력\n",
        "print(a3[1:10:2])\n",
        "# 2,4,6,8,10,12 출력\n",
        "print(a3[2:13:2])\n",
        "# 14,13,12,11,10출력\n",
        "print(a3[-1:9:-1])\n",
        "# 전부다 출력\n",
        "print(a3[::])\n",
        "# 1열 전부 출력\n",
        "print(a3[1:2])\n",
        "# 마지막 열 출력\n",
        "print(a3[-1:-2:-1])\n"
      ],
      "metadata": {
        "id": "NbicPpVGd0cS"
      },
      "execution_count": null,
      "outputs": []
    },
    {
      "cell_type": "code",
      "source": [
        "# 슬라이싱 slicing 2D Array\n",
        "a=np.arange(10,25).reshape(3,5)\n",
        "print(a)\n",
        "print(a.ndim)\n",
        "print(a.shape)\n",
        "print(a[:])\n",
        "print(a[0:])\n",
        "print(a[1:]) # 1행부터 끝행까지\n",
        "print(a[-1:]) # 제일 마지막행\n",
        "print(a[-2:])\n",
        "print(a[-3:])\n",
        "print(a[:0])\n",
        "print(a[:1])  # 0행\n",
        "print(a[:-1]) # 0행 1행\n",
        "print(a[:,2:])\n",
        "print(a[:,-3:])\n",
        "\n",
        "a=np.arange(10,25).reshape(3,5)\n",
        "# 10~100까지 9X10 2차원 배열\n",
        "a=np.arange(10,100).reshape(9,10)\n",
        "print(a)\n",
        "\n",
        "\n",
        "\n"
      ],
      "metadata": {
        "colab": {
          "base_uri": "https://localhost:8080/"
        },
        "id": "7CYF3acnjhzM",
        "outputId": "bfb1e9d9-5f20-4c5f-c2cf-1f76e339b422"
      },
      "execution_count": null,
      "outputs": [
        {
          "output_type": "stream",
          "name": "stdout",
          "text": [
            "[[10 11 12 13 14]\n",
            " [15 16 17 18 19]\n",
            " [20 21 22 23 24]]\n",
            "2\n",
            "(3, 5)\n",
            "[[10 11 12 13 14]\n",
            " [15 16 17 18 19]\n",
            " [20 21 22 23 24]]\n",
            "[[10 11 12 13 14]\n",
            " [15 16 17 18 19]\n",
            " [20 21 22 23 24]]\n"
          ]
        }
      ]
    },
    {
      "cell_type": "code",
      "source": [
        "# iterating - 반복자 1) 1DArray 2) 2DArray\n",
        "a = np.arange(11) ** 3\n",
        "print(a)\n",
        "for a1 in a:\n",
        "  print(a1)"
      ],
      "metadata": {
        "colab": {
          "base_uri": "https://localhost:8080/"
        },
        "id": "CkBGm2IV4fRi",
        "outputId": "24dd2766-d480-4020-97ad-1991222ef88a"
      },
      "execution_count": null,
      "outputs": [
        {
          "output_type": "stream",
          "name": "stdout",
          "text": [
            "[   0    1    8   27   64  125  216  343  512  729 1000]\n",
            "0\n",
            "1\n",
            "8\n",
            "27\n",
            "64\n",
            "125\n",
            "216\n",
            "343\n",
            "512\n",
            "729\n",
            "1000\n"
          ]
        }
      ]
    },
    {
      "cell_type": "code",
      "source": [
        "# concatenate\n",
        "a = np.array([1,2,3])\n",
        "b = np.array([4,5,6])\n",
        "c = np.concatenate((a,b)) # a,b 배열을 행으로 합치기\n",
        "print(c)\n",
        "\n",
        "print(c)"
      ],
      "metadata": {
        "id": "aB_SJ9ygElvk"
      },
      "execution_count": null,
      "outputs": []
    },
    {
      "cell_type": "code",
      "source": [
        "# concatenate 2d\n",
        "a=np.array( [ [1,2],[3,4]  ]    )\n",
        "b=np.array( [ [5,6],[7,8]  ]    )\n",
        "print(a)\n",
        "print(b)\n",
        "c = np.concatenate( (a,b), axis=0 ) #행으로 합치기\n",
        "print( c )\n",
        "c = np.concatenate( (a,b), axis=1 ) # 열로 합치기\n",
        "print( c )\n",
        "\n",
        "c = np.r_[ a, b] #행으로 합치기\n",
        "print(c )\n",
        "c=np.c_[a, b] # 열로 합치기\n",
        "print( c )"
      ],
      "metadata": {
        "id": "E_dFwYSRZtc0"
      },
      "execution_count": null,
      "outputs": []
    },
    {
      "cell_type": "code",
      "source": [
        "# hstack-수평, vstack-수직\n",
        "a=np.array([[1,2],[3,4]])\n",
        "b=np.array([[5,6],[7,8]])\n",
        "c = np.hstack((a,b)) # (튜플){딕셔너리}{list}\n",
        "print(c)\n",
        "c1 = np.vstack((a,b))\n",
        "print(c1)"
      ],
      "metadata": {
        "id": "zuQGEyd_E6Si"
      },
      "execution_count": null,
      "outputs": []
    },
    {
      "cell_type": "code",
      "source": [
        "\n",
        "a=np.zeros(5) # 5열 전체에 0으로 채우기\n",
        "print(a)\n",
        "a=np.ones(5) # 5열 전체에 1로 채우기\n",
        "print(a)\n",
        "a2 = np.zeros( (3,5) ) # 3행 5열\n",
        "print( a2 )\n",
        "# 5X4 1\n",
        "a3 = np.ones( (5, 4 )  )\n",
        "print( a3 )\n",
        "print( a.dtype )\n",
        "print( a.ndim )\n",
        "# 모든 요소값을 전부 5로 하고 싶다\n",
        "a=np.full( 10, 5) # 10열 5값을 전부 넣기\n",
        "print( a )\n",
        "# 3행 4열에 모든 값일 7로 넣고 싶다\n",
        "c = np.full( (3,4), 7 )\n",
        "print( c )"
      ],
      "metadata": {
        "id": "jgmEQR6fLZlC"
      },
      "execution_count": null,
      "outputs": []
    },
    {
      "cell_type": "code",
      "source": [
        "#empty 항목을 초기화 하지 않고 주어진 모양과 유형의 새 배열을 반환\n",
        "a = np.empty(4)\n",
        "print( a )\n",
        "a = np.empty(4, dtype=np.int64)\n",
        "print( a )\n",
        "a = np.empty( (2,4), dtype=np.int32 )\n",
        "print( a )"
      ],
      "metadata": {
        "id": "V6cIdXVzN8sD"
      },
      "execution_count": null,
      "outputs": []
    },
    {
      "cell_type": "code",
      "source": [
        "# 행렬 곱하기\n",
        "a = np.array([[1,2,3],[4,5,6]])\n",
        "b = np.array([[2,2],[3,3],[4,4]])\n",
        "c = a@b\n",
        "print(c)\n",
        "c=np.matmul(a,b)\n",
        "print(c)"
      ],
      "metadata": {
        "colab": {
          "base_uri": "https://localhost:8080/"
        },
        "id": "7uLjYm6kQo4b",
        "outputId": "ab92a7cc-e6a9-421a-c36b-274f050b8529"
      },
      "execution_count": null,
      "outputs": [
        {
          "output_type": "stream",
          "name": "stdout",
          "text": [
            "[[20 20]\n",
            " [47 47]]\n",
            "[[20 20]\n",
            " [47 47]]\n"
          ]
        }
      ]
    },
    {
      "cell_type": "code",
      "source": [
        "# 제곱\n",
        "a = np.array([1,2,3,4])\n",
        "a1 = np.square(a) # 제곱\n",
        "print(a1)\n",
        "\n",
        "#제곱근\n",
        "a = np.array([1,2,3,4])\n",
        "print(np.a)"
      ],
      "metadata": {
        "id": "VXR96qMlRyid"
      },
      "execution_count": null,
      "outputs": []
    },
    {
      "cell_type": "code",
      "source": [
        "import numpy as np\n",
        "np.exp(1)\n",
        "x = np.array([0,1,2])\n",
        "y = np.exp(x)\n",
        "print(y)"
      ],
      "metadata": {
        "colab": {
          "base_uri": "https://localhost:8080/"
        },
        "id": "u0Q93hINUdpC",
        "outputId": "417d31b1-c3ef-4d88-dcad-39f8975dfd82"
      },
      "execution_count": null,
      "outputs": [
        {
          "output_type": "stream",
          "name": "stdout",
          "text": [
            "[1.         2.71828183 7.3890561 ]\n"
          ]
        }
      ]
    },
    {
      "cell_type": "code",
      "source": [
        "import matplotlib.pyplot as plt # 그래프 그리기\n",
        "x = np.linespace(-2,2,100)\n",
        "y = np.exp(X)\n",
        "# print(y)\n",
        "plt.plot(y)\n"
      ],
      "metadata": {
        "id": "_NReRA3uUpkj"
      },
      "execution_count": null,
      "outputs": []
    },
    {
      "cell_type": "markdown",
      "source": [
        "random - 난수\n",
        "rand"
      ],
      "metadata": {
        "id": "widpGk8OV3k3"
      }
    },
    {
      "cell_type": "code",
      "source": [
        "np.random.rand() # 1개 랜덤수\n",
        "print(np.random.rand(3)) # 3열짜리 랜덤수\n",
        "print(np.random.rand(3,5)) # 3행5열짜리 랜덤수 구하기\n"
      ],
      "metadata": {
        "colab": {
          "base_uri": "https://localhost:8080/"
        },
        "id": "AW6JD3CZV9KK",
        "outputId": "da19e2f2-4129-4926-b414-0ace9c1b4445"
      },
      "execution_count": null,
      "outputs": [
        {
          "output_type": "execute_result",
          "data": {
            "text/plain": [
              "array([0.28545137, 0.48185902, 0.1881358 ])"
            ]
          },
          "metadata": {},
          "execution_count": 39
        }
      ]
    },
    {
      "cell_type": "markdown",
      "source": [
        "\n",
        "\n",
        "> 파일로 저장하기 np.save('파일명',넌파이자료)\n",
        "\n",
        "\n",
        "파일로 불러오기 변수 = np.load('파일명')"
      ],
      "metadata": {
        "id": "NnDPRRz_XShS"
      }
    },
    {
      "cell_type": "code",
      "source": [
        "# 0~99까지 10행 10열 2차원 배열만들기\n",
        "a = np.arange(0,100).reshape(10,10)\n",
        "print(a)\n",
        "np.save('test.npy')\n"
      ],
      "metadata": {
        "colab": {
          "base_uri": "https://localhost:8080/",
          "height": 367
        },
        "id": "btDJtkr3XSG0",
        "outputId": "d415aff7-18de-40dd-a1fe-2c95b2f2d3cf"
      },
      "execution_count": null,
      "outputs": [
        {
          "output_type": "stream",
          "name": "stdout",
          "text": [
            "[[ 0  1  2  3  4  5  6  7  8  9]\n",
            " [10 11 12 13 14 15 16 17 18 19]\n",
            " [20 21 22 23 24 25 26 27 28 29]\n",
            " [30 31 32 33 34 35 36 37 38 39]\n",
            " [40 41 42 43 44 45 46 47 48 49]\n",
            " [50 51 52 53 54 55 56 57 58 59]\n",
            " [60 61 62 63 64 65 66 67 68 69]\n",
            " [70 71 72 73 74 75 76 77 78 79]\n",
            " [80 81 82 83 84 85 86 87 88 89]\n",
            " [90 91 92 93 94 95 96 97 98 99]]\n"
          ]
        },
        {
          "output_type": "error",
          "ename": "TypeError",
          "evalue": "save() missing 1 required positional argument: 'arr'",
          "traceback": [
            "\u001b[0;31m---------------------------------------------------------------------------\u001b[0m",
            "\u001b[0;31mTypeError\u001b[0m                                 Traceback (most recent call last)",
            "\u001b[0;32m<ipython-input-41-a8d1df8e792c>\u001b[0m in \u001b[0;36m<cell line: 4>\u001b[0;34m()\u001b[0m\n\u001b[1;32m      2\u001b[0m \u001b[0ma\u001b[0m \u001b[0;34m=\u001b[0m \u001b[0mnp\u001b[0m\u001b[0;34m.\u001b[0m\u001b[0marange\u001b[0m\u001b[0;34m(\u001b[0m\u001b[0;36m0\u001b[0m\u001b[0;34m,\u001b[0m\u001b[0;36m100\u001b[0m\u001b[0;34m)\u001b[0m\u001b[0;34m.\u001b[0m\u001b[0mreshape\u001b[0m\u001b[0;34m(\u001b[0m\u001b[0;36m10\u001b[0m\u001b[0;34m,\u001b[0m\u001b[0;36m10\u001b[0m\u001b[0;34m)\u001b[0m\u001b[0;34m\u001b[0m\u001b[0;34m\u001b[0m\u001b[0m\n\u001b[1;32m      3\u001b[0m \u001b[0mprint\u001b[0m\u001b[0;34m(\u001b[0m\u001b[0ma\u001b[0m\u001b[0;34m)\u001b[0m\u001b[0;34m\u001b[0m\u001b[0;34m\u001b[0m\u001b[0m\n\u001b[0;32m----> 4\u001b[0;31m \u001b[0mnp\u001b[0m\u001b[0;34m.\u001b[0m\u001b[0msave\u001b[0m\u001b[0;34m(\u001b[0m\u001b[0;34m'test.npy'\u001b[0m\u001b[0;34m)\u001b[0m\u001b[0;34m\u001b[0m\u001b[0;34m\u001b[0m\u001b[0m\n\u001b[0m",
            "\u001b[0;31mTypeError\u001b[0m: save() missing 1 required positional argument: 'arr'"
          ]
        }
      ]
    },
    {
      "cell_type": "code",
      "source": [
        "# 넌파이 불러오기\n",
        "k = np.load('test.npy')\n",
        "print(k)\n"
      ],
      "metadata": {
        "colab": {
          "base_uri": "https://localhost:8080/",
          "height": 312
        },
        "id": "CFRY92ynYKlT",
        "outputId": "9dfa6555-2906-44ad-94bf-4715e1b5f6e2"
      },
      "execution_count": null,
      "outputs": [
        {
          "output_type": "error",
          "ename": "FileNotFoundError",
          "evalue": "[Errno 2] No such file or directory: 'test.npy'",
          "traceback": [
            "\u001b[0;31m---------------------------------------------------------------------------\u001b[0m",
            "\u001b[0;31mFileNotFoundError\u001b[0m                         Traceback (most recent call last)",
            "\u001b[0;32m<ipython-input-40-6e626b5bf6df>\u001b[0m in \u001b[0;36m<cell line: 2>\u001b[0;34m()\u001b[0m\n\u001b[1;32m      1\u001b[0m \u001b[0;31m# 넌파이 불러오기\u001b[0m\u001b[0;34m\u001b[0m\u001b[0;34m\u001b[0m\u001b[0m\n\u001b[0;32m----> 2\u001b[0;31m \u001b[0mk\u001b[0m \u001b[0;34m=\u001b[0m \u001b[0mnp\u001b[0m\u001b[0;34m.\u001b[0m\u001b[0mload\u001b[0m\u001b[0;34m(\u001b[0m\u001b[0;34m'test.npy'\u001b[0m\u001b[0;34m)\u001b[0m\u001b[0;34m\u001b[0m\u001b[0;34m\u001b[0m\u001b[0m\n\u001b[0m\u001b[1;32m      3\u001b[0m \u001b[0mprint\u001b[0m\u001b[0;34m(\u001b[0m\u001b[0mk\u001b[0m\u001b[0;34m)\u001b[0m\u001b[0;34m\u001b[0m\u001b[0;34m\u001b[0m\u001b[0m\n",
            "\u001b[0;32m/usr/local/lib/python3.10/dist-packages/numpy/lib/npyio.py\u001b[0m in \u001b[0;36mload\u001b[0;34m(file, mmap_mode, allow_pickle, fix_imports, encoding, max_header_size)\u001b[0m\n\u001b[1;32m    425\u001b[0m             \u001b[0mown_fid\u001b[0m \u001b[0;34m=\u001b[0m \u001b[0;32mFalse\u001b[0m\u001b[0;34m\u001b[0m\u001b[0;34m\u001b[0m\u001b[0m\n\u001b[1;32m    426\u001b[0m         \u001b[0;32melse\u001b[0m\u001b[0;34m:\u001b[0m\u001b[0;34m\u001b[0m\u001b[0;34m\u001b[0m\u001b[0m\n\u001b[0;32m--> 427\u001b[0;31m             \u001b[0mfid\u001b[0m \u001b[0;34m=\u001b[0m \u001b[0mstack\u001b[0m\u001b[0;34m.\u001b[0m\u001b[0menter_context\u001b[0m\u001b[0;34m(\u001b[0m\u001b[0mopen\u001b[0m\u001b[0;34m(\u001b[0m\u001b[0mos_fspath\u001b[0m\u001b[0;34m(\u001b[0m\u001b[0mfile\u001b[0m\u001b[0;34m)\u001b[0m\u001b[0;34m,\u001b[0m \u001b[0;34m\"rb\"\u001b[0m\u001b[0;34m)\u001b[0m\u001b[0;34m)\u001b[0m\u001b[0;34m\u001b[0m\u001b[0;34m\u001b[0m\u001b[0m\n\u001b[0m\u001b[1;32m    428\u001b[0m             \u001b[0mown_fid\u001b[0m \u001b[0;34m=\u001b[0m \u001b[0;32mTrue\u001b[0m\u001b[0;34m\u001b[0m\u001b[0;34m\u001b[0m\u001b[0m\n\u001b[1;32m    429\u001b[0m \u001b[0;34m\u001b[0m\u001b[0m\n",
            "\u001b[0;31mFileNotFoundError\u001b[0m: [Errno 2] No such file or directory: 'test.npy'"
          ]
        }
      ]
    },
    {
      "cell_type": "code",
      "source": [
        "import numpy as np\n",
        "from google.colab import files\n",
        "f = files.upload() # 파일업로드하기\n",
        "data = np.loadtxt('chocolate_rating.csv',delimiter=',')"
      ],
      "metadata": {
        "colab": {
          "base_uri": "https://localhost:8080/",
          "height": 77
        },
        "id": "f-B9Une9cHoa",
        "outputId": "2fa7c1a0-7543-4cab-d01d-9cfe47674aad"
      },
      "execution_count": null,
      "outputs": [
        {
          "output_type": "display_data",
          "data": {
            "text/plain": [
              "<IPython.core.display.HTML object>"
            ],
            "text/html": [
              "\n",
              "     <input type=\"file\" id=\"files-bddcba35-6c9c-49cf-a357-d336324f2eeb\" name=\"files[]\" multiple disabled\n",
              "        style=\"border:none\" />\n",
              "     <output id=\"result-bddcba35-6c9c-49cf-a357-d336324f2eeb\">\n",
              "      Upload widget is only available when the cell has been executed in the\n",
              "      current browser session. Please rerun this cell to enable.\n",
              "      </output>\n",
              "      <script>// Copyright 2017 Google LLC\n",
              "//\n",
              "// Licensed under the Apache License, Version 2.0 (the \"License\");\n",
              "// you may not use this file except in compliance with the License.\n",
              "// You may obtain a copy of the License at\n",
              "//\n",
              "//      http://www.apache.org/licenses/LICENSE-2.0\n",
              "//\n",
              "// Unless required by applicable law or agreed to in writing, software\n",
              "// distributed under the License is distributed on an \"AS IS\" BASIS,\n",
              "// WITHOUT WARRANTIES OR CONDITIONS OF ANY KIND, either express or implied.\n",
              "// See the License for the specific language governing permissions and\n",
              "// limitations under the License.\n",
              "\n",
              "/**\n",
              " * @fileoverview Helpers for google.colab Python module.\n",
              " */\n",
              "(function(scope) {\n",
              "function span(text, styleAttributes = {}) {\n",
              "  const element = document.createElement('span');\n",
              "  element.textContent = text;\n",
              "  for (const key of Object.keys(styleAttributes)) {\n",
              "    element.style[key] = styleAttributes[key];\n",
              "  }\n",
              "  return element;\n",
              "}\n",
              "\n",
              "// Max number of bytes which will be uploaded at a time.\n",
              "const MAX_PAYLOAD_SIZE = 100 * 1024;\n",
              "\n",
              "function _uploadFiles(inputId, outputId) {\n",
              "  const steps = uploadFilesStep(inputId, outputId);\n",
              "  const outputElement = document.getElementById(outputId);\n",
              "  // Cache steps on the outputElement to make it available for the next call\n",
              "  // to uploadFilesContinue from Python.\n",
              "  outputElement.steps = steps;\n",
              "\n",
              "  return _uploadFilesContinue(outputId);\n",
              "}\n",
              "\n",
              "// This is roughly an async generator (not supported in the browser yet),\n",
              "// where there are multiple asynchronous steps and the Python side is going\n",
              "// to poll for completion of each step.\n",
              "// This uses a Promise to block the python side on completion of each step,\n",
              "// then passes the result of the previous step as the input to the next step.\n",
              "function _uploadFilesContinue(outputId) {\n",
              "  const outputElement = document.getElementById(outputId);\n",
              "  const steps = outputElement.steps;\n",
              "\n",
              "  const next = steps.next(outputElement.lastPromiseValue);\n",
              "  return Promise.resolve(next.value.promise).then((value) => {\n",
              "    // Cache the last promise value to make it available to the next\n",
              "    // step of the generator.\n",
              "    outputElement.lastPromiseValue = value;\n",
              "    return next.value.response;\n",
              "  });\n",
              "}\n",
              "\n",
              "/**\n",
              " * Generator function which is called between each async step of the upload\n",
              " * process.\n",
              " * @param {string} inputId Element ID of the input file picker element.\n",
              " * @param {string} outputId Element ID of the output display.\n",
              " * @return {!Iterable<!Object>} Iterable of next steps.\n",
              " */\n",
              "function* uploadFilesStep(inputId, outputId) {\n",
              "  const inputElement = document.getElementById(inputId);\n",
              "  inputElement.disabled = false;\n",
              "\n",
              "  const outputElement = document.getElementById(outputId);\n",
              "  outputElement.innerHTML = '';\n",
              "\n",
              "  const pickedPromise = new Promise((resolve) => {\n",
              "    inputElement.addEventListener('change', (e) => {\n",
              "      resolve(e.target.files);\n",
              "    });\n",
              "  });\n",
              "\n",
              "  const cancel = document.createElement('button');\n",
              "  inputElement.parentElement.appendChild(cancel);\n",
              "  cancel.textContent = 'Cancel upload';\n",
              "  const cancelPromise = new Promise((resolve) => {\n",
              "    cancel.onclick = () => {\n",
              "      resolve(null);\n",
              "    };\n",
              "  });\n",
              "\n",
              "  // Wait for the user to pick the files.\n",
              "  const files = yield {\n",
              "    promise: Promise.race([pickedPromise, cancelPromise]),\n",
              "    response: {\n",
              "      action: 'starting',\n",
              "    }\n",
              "  };\n",
              "\n",
              "  cancel.remove();\n",
              "\n",
              "  // Disable the input element since further picks are not allowed.\n",
              "  inputElement.disabled = true;\n",
              "\n",
              "  if (!files) {\n",
              "    return {\n",
              "      response: {\n",
              "        action: 'complete',\n",
              "      }\n",
              "    };\n",
              "  }\n",
              "\n",
              "  for (const file of files) {\n",
              "    const li = document.createElement('li');\n",
              "    li.append(span(file.name, {fontWeight: 'bold'}));\n",
              "    li.append(span(\n",
              "        `(${file.type || 'n/a'}) - ${file.size} bytes, ` +\n",
              "        `last modified: ${\n",
              "            file.lastModifiedDate ? file.lastModifiedDate.toLocaleDateString() :\n",
              "                                    'n/a'} - `));\n",
              "    const percent = span('0% done');\n",
              "    li.appendChild(percent);\n",
              "\n",
              "    outputElement.appendChild(li);\n",
              "\n",
              "    const fileDataPromise = new Promise((resolve) => {\n",
              "      const reader = new FileReader();\n",
              "      reader.onload = (e) => {\n",
              "        resolve(e.target.result);\n",
              "      };\n",
              "      reader.readAsArrayBuffer(file);\n",
              "    });\n",
              "    // Wait for the data to be ready.\n",
              "    let fileData = yield {\n",
              "      promise: fileDataPromise,\n",
              "      response: {\n",
              "        action: 'continue',\n",
              "      }\n",
              "    };\n",
              "\n",
              "    // Use a chunked sending to avoid message size limits. See b/62115660.\n",
              "    let position = 0;\n",
              "    do {\n",
              "      const length = Math.min(fileData.byteLength - position, MAX_PAYLOAD_SIZE);\n",
              "      const chunk = new Uint8Array(fileData, position, length);\n",
              "      position += length;\n",
              "\n",
              "      const base64 = btoa(String.fromCharCode.apply(null, chunk));\n",
              "      yield {\n",
              "        response: {\n",
              "          action: 'append',\n",
              "          file: file.name,\n",
              "          data: base64,\n",
              "        },\n",
              "      };\n",
              "\n",
              "      let percentDone = fileData.byteLength === 0 ?\n",
              "          100 :\n",
              "          Math.round((position / fileData.byteLength) * 100);\n",
              "      percent.textContent = `${percentDone}% done`;\n",
              "\n",
              "    } while (position < fileData.byteLength);\n",
              "  }\n",
              "\n",
              "  // All done.\n",
              "  yield {\n",
              "    response: {\n",
              "      action: 'complete',\n",
              "    }\n",
              "  };\n",
              "}\n",
              "\n",
              "scope.google = scope.google || {};\n",
              "scope.google.colab = scope.google.colab || {};\n",
              "scope.google.colab._files = {\n",
              "  _uploadFiles,\n",
              "  _uploadFilesContinue,\n",
              "};\n",
              "})(self);\n",
              "</script> "
            ]
          },
          "metadata": {}
        },
        {
          "output_type": "stream",
          "name": "stdout",
          "text": [
            "Saving chocolate_rating.csv to chocolate_rating (1).csv\n"
          ]
        }
      ]
    },
    {
      "cell_type": "code",
      "source": [
        "# print(data)\n",
        "print(data.ndim)\n",
        "print(data.shape)\n",
        "print(data.size)"
      ],
      "metadata": {
        "colab": {
          "base_uri": "https://localhost:8080/"
        },
        "id": "FRcJuI3oeXcq",
        "outputId": "05401130-a666-4f4e-97f8-5161caae528d"
      },
      "execution_count": null,
      "outputs": [
        {
          "output_type": "stream",
          "name": "stdout",
          "text": [
            "2\n",
            "(1795, 4)\n",
            "7180\n"
          ]
        }
      ]
    },
    {
      "cell_type": "code",
      "source": [
        "rating_mean = data[:,3].mean()\n",
        "# print(rating_mean)\n",
        "\n",
        "high_level = data[data[:,3]>=4]\n",
        "#print(high_level[0:10])\n",
        "high_id = high_level[:,0].astype(np.int64)\n",
        "print(high_id)\n",
        "\n"
      ],
      "metadata": {
        "colab": {
          "base_uri": "https://localhost:8080/"
        },
        "id": "k7E3QOlXfH5w",
        "outputId": "bf38825d-8114-422e-f452-94709ba0af3e"
      },
      "execution_count": null,
      "outputs": [
        {
          "output_type": "stream",
          "name": "stdout",
          "text": [
            "[  10   18   21   55   57   77   78   79   84   87   88   93  108  109\n",
            "  118  124  153  180  181  187  223  232  233  240  243  244  245  248\n",
            "  257  312  316  317  358  437  503  567  573  574  582  601  650  687\n",
            "  690  691  701  720  730  800  828  862  864  865  866  883  919  993\n",
            " 1088 1089 1118 1119 1120 1204 1241 1245 1247 1274 1277 1278 1289 1291\n",
            " 1293 1295 1323 1331 1336 1378 1394 1426 1428 1433 1479 1488 1513 1516\n",
            " 1529 1530 1531 1533 1536 1537 1544 1545 1664 1683 1686 1688 1694 1700\n",
            " 1740 1757]\n"
          ]
        }
      ]
    },
    {
      "cell_type": "code",
      "source": [
        "high_kakao = high_level[:,2]\n",
        "print(high_kakao)\n",
        "unique_values, value_counts = np.unique(high_kakao, return_counts=True)\n",
        "print('카카오함유량',unique_values)"
      ],
      "metadata": {
        "colab": {
          "base_uri": "https://localhost:8080/"
        },
        "id": "LJRZ-M14hzNK",
        "outputId": "1edeb42c-ebe0-4b3a-fc89-1d007b1751a9"
      },
      "execution_count": null,
      "outputs": [
        {
          "output_type": "stream",
          "name": "stdout",
          "text": [
            "[0.7  0.7  0.63 0.7  0.7  0.7  0.75 0.7  0.7  0.7  0.66 0.6  0.7  0.7\n",
            " 0.7  0.72 0.7  0.73 0.72 0.72 0.75 0.75 0.75 0.75 0.75 0.75 0.75 0.75\n",
            " 0.7  0.71 0.7  0.7  0.72 0.75 0.7  0.7  0.7  0.7  0.7  0.7  0.68 0.7\n",
            " 0.74 0.69 0.7  0.74 0.7  0.72 0.7  0.74 0.7  0.72 0.72 0.7  0.7  0.63\n",
            " 0.68 0.74 0.67 0.65 0.64 0.75 0.7  0.7  0.7  0.75 0.7  0.67 0.7  0.72\n",
            " 0.72 0.72 0.75 0.75 0.8  0.75 0.75 0.7  0.78 0.65 0.7  0.72 0.7  0.75\n",
            " 0.88 0.7  0.67 0.7  0.7  0.7  0.64 0.7  0.7  0.63 0.69 0.64 0.64 0.7\n",
            " 0.7  0.7 ]\n",
            "[0.6  0.63 0.64 0.65 0.66 0.67 0.68 0.69 0.7  0.71 0.72 0.73 0.74 0.75\n",
            " 0.78 0.8  0.88]\n"
          ]
        }
      ]
    },
    {
      "cell_type": "code",
      "source": [
        "max = np.max(value_counts)\n",
        "print(max)"
      ],
      "metadata": {
        "colab": {
          "base_uri": "https://localhost:8080/"
        },
        "id": "AJkuQQdYkTK7",
        "outputId": "3af3c702-2146-47de-e4c4-727be55a1b39"
      },
      "execution_count": null,
      "outputs": [
        {
          "output_type": "stream",
          "name": "stdout",
          "text": [
            "45\n"
          ]
        }
      ]
    },
    {
      "cell_type": "markdown",
      "source": [
        "넌파이 복습 문제"
      ],
      "metadata": {
        "id": "bAAIXhVGAVtx"
      }
    },
    {
      "cell_type": "markdown",
      "source": [
        "1. 넘파이 모듈을 np라는 이름으로 임포트해보세요."
      ],
      "metadata": {
        "id": "pnq2WIt6AvZX"
      }
    },
    {
      "cell_type": "code",
      "source": [
        "import numpy as np"
      ],
      "metadata": {
        "id": "HETt_4s7leYj"
      },
      "execution_count": null,
      "outputs": []
    },
    {
      "cell_type": "markdown",
      "source": [
        " 2. 리스트를 넘파이의 ndarry 객체로 변환해보세요. data = [1,2,3]"
      ],
      "metadata": {
        "id": "4UU03fFyAzF_"
      }
    },
    {
      "cell_type": "code",
      "source": [
        "data = [1,2,3]\n",
        "a = np.array(data)\n",
        "print('a.shape:',a.shape)\n",
        "print('a[0]:',a[0])"
      ],
      "metadata": {
        "id": "-3oseUyiAyn6"
      },
      "execution_count": null,
      "outputs": []
    },
    {
      "cell_type": "markdown",
      "source": [
        "3. 0부터 99까지의 정수가 저장된 ndarray 객체를 만들어 보세요( 힌트 arange)"
      ],
      "metadata": {
        "id": "8Hlt8tHUBFEf"
      }
    },
    {
      "cell_type": "code",
      "source": [
        "ndarray = np.arange(100)\n",
        "print('3'), ndarray"
      ],
      "metadata": {
        "id": "Z9aa8htSBShH"
      },
      "execution_count": null,
      "outputs": []
    },
    {
      "cell_type": "markdown",
      "source": [
        "4. 구구단 3단의 결과가 저장된 gugu객체를 만들어 보세요 ( 힌트 arange)\n",
        "\n",
        "    gugu [ 3 6 9 12 15 18 21 24 27]"
      ],
      "metadata": {
        "id": "ToF7PG6uBHw3"
      }
    },
    {
      "cell_type": "code",
      "source": [
        "gugu = np.arange(1,10)*3\n",
        "print('4',gugu)"
      ],
      "metadata": {
        "id": "kic8mhd_CAmT"
      },
      "execution_count": null,
      "outputs": []
    },
    {
      "cell_type": "markdown",
      "source": [
        "5. 1000보다 작은 짝수가 저장된 evenObj 객체를 만드시오 ( 힌트 arange)"
      ],
      "metadata": {
        "id": "CSWmpoIWBZ_T"
      }
    },
    {
      "cell_type": "code",
      "source": [
        "evenObj = np.arange(2,1000,2)\n",
        "print('5', evenObj)"
      ],
      "metadata": {
        "id": "puFDpW97CMJv"
      },
      "execution_count": null,
      "outputs": []
    },
    {
      "cell_type": "markdown",
      "source": [
        "6. 0부터 1까지 0.1간격으로 구성된 aObj 객체를 만드시오 1은 포함되지 않습니다"
      ],
      "metadata": {
        "id": "l5hvDkEOCtLs"
      }
    },
    {
      "cell_type": "code",
      "source": [
        "aObj = np.arange(0,1,0.1)\n",
        "print('6', aObj)"
      ],
      "metadata": {
        "colab": {
          "base_uri": "https://localhost:8080/"
        },
        "id": "tsCxrTDSDU6k",
        "outputId": "18dc3bab-76d7-4578-fb3c-6011aa70ae3f"
      },
      "execution_count": null,
      "outputs": [
        {
          "output_type": "stream",
          "name": "stdout",
          "text": [
            "6 [0.  0.1 0.2 0.3 0.4 0.5 0.6 0.7 0.8 0.9]\n"
          ]
        }
      ]
    },
    {
      "cell_type": "markdown",
      "source": [
        "7. 리스트에는 6개의 데이터가 저장되 있습니다 data=[0,1,2,3,4,5]   \n",
        "   다음과 같이 2행 3열의 a7객체로 변환하세요 [[0 1 2] [3 4 5 ] ]"
      ],
      "metadata": {
        "id": "uiw2aQ2xCxfA"
      }
    },
    {
      "cell_type": "code",
      "source": [
        "data =[0,1,2,3,4,5]\n",
        "a7 = np.array(data).reshape(2,3)\n",
        "print('7',a7)"
      ],
      "metadata": {
        "colab": {
          "base_uri": "https://localhost:8080/"
        },
        "id": "19uhC9h6EAIR",
        "outputId": "b686476c-0148-4594-f558-5b74ad25dcda"
      },
      "execution_count": null,
      "outputs": [
        {
          "output_type": "stream",
          "name": "stdout",
          "text": [
            "7 [[0 1 2]\n",
            " [3 4 5]]\n"
          ]
        }
      ]
    },
    {
      "cell_type": "markdown",
      "source": [
        "8. 힌트 reshape 다음의 2차원 a8 1차원 a81로 변환하세요   \n",
        "   a8 = np.array( [ [0,1,2],[3,4,5] ] )"
      ],
      "metadata": {
        "id": "XSfjjYh4Cz4w"
      }
    },
    {
      "cell_type": "code",
      "source": [
        "a8 = np.array([ [0,1,2],[3,4,5] ])\n",
        "a81 = a8.reshape(6)\n",
        "print('8',a81)"
      ],
      "metadata": {
        "colab": {
          "base_uri": "https://localhost:8080/"
        },
        "id": "v9doyMaKEYfc",
        "outputId": "ec2c7a40-4e9f-40ec-f7d2-4a78eb3f8f62"
      },
      "execution_count": null,
      "outputs": [
        {
          "output_type": "stream",
          "name": "stdout",
          "text": [
            "8 [0 1 2 3 4 5]\n"
          ]
        }
      ]
    },
    {
      "cell_type": "markdown",
      "source": [
        "9. 힌트 reshape 주어진 a9를 다음과 같이 변경해 보세요\n",
        "a9 = np.arange(3) [ [0]  [1]  [2] ]"
      ],
      "metadata": {
        "id": "QEdMV0dJDGOa"
      }
    },
    {
      "cell_type": "code",
      "source": [
        "a9 = np.arange(3)\n",
        "a9 = a9.reshape( 3, 1)\n",
        "print('9', a9)"
      ],
      "metadata": {
        "colab": {
          "base_uri": "https://localhost:8080/",
          "height": 184
        },
        "id": "59BSVRadEzFQ",
        "outputId": "5f3e7d0c-f76c-4e98-98f4-884287dfedcb"
      },
      "execution_count": null,
      "outputs": [
        {
          "output_type": "error",
          "ename": "IndexError",
          "evalue": "list index out of range",
          "traceback": [
            "\u001b[0;31m---------------------------------------------------------------------------\u001b[0m",
            "\u001b[0;31mIndexError\u001b[0m                                Traceback (most recent call last)",
            "\u001b[0;32m<ipython-input-11-da6983a38035>\u001b[0m in \u001b[0;36m<cell line: 1>\u001b[0;34m()\u001b[0m\n\u001b[0;32m----> 1\u001b[0;31m \u001b[0ma9\u001b[0m \u001b[0;34m=\u001b[0m \u001b[0mnp\u001b[0m\u001b[0;34m.\u001b[0m\u001b[0marange\u001b[0m\u001b[0;34m(\u001b[0m\u001b[0;36m3\u001b[0m\u001b[0;34m)\u001b[0m \u001b[0;34m[\u001b[0m \u001b[0;34m[\u001b[0m\u001b[0;36m0\u001b[0m\u001b[0;34m]\u001b[0m \u001b[0;34m[\u001b[0m\u001b[0;36m1\u001b[0m\u001b[0;34m]\u001b[0m \u001b[0;34m[\u001b[0m\u001b[0;36m2\u001b[0m\u001b[0;34m]\u001b[0m \u001b[0;34m]\u001b[0m\u001b[0;34m\u001b[0m\u001b[0;34m\u001b[0m\u001b[0m\n\u001b[0m\u001b[1;32m      2\u001b[0m \u001b[0ma9\u001b[0m\u001b[0;34m=\u001b[0m\u001b[0ma9\u001b[0m\u001b[0;34m.\u001b[0m\u001b[0mreshape\u001b[0m\u001b[0;34m(\u001b[0m\u001b[0;36m3\u001b[0m\u001b[0;34m,\u001b[0m\u001b[0;36m1\u001b[0m\u001b[0;34m)\u001b[0m\u001b[0;34m\u001b[0m\u001b[0;34m\u001b[0m\u001b[0m\n\u001b[1;32m      3\u001b[0m \u001b[0mprint\u001b[0m\u001b[0;34m(\u001b[0m\u001b[0;34m'9'\u001b[0m\u001b[0;34m,\u001b[0m\u001b[0ma9\u001b[0m\u001b[0;34m)\u001b[0m\u001b[0;34m\u001b[0m\u001b[0;34m\u001b[0m\u001b[0m\n",
            "\u001b[0;31mIndexError\u001b[0m: list index out of range"
          ]
        }
      ]
    },
    {
      "cell_type": "markdown",
      "source": [
        "10. 아래 코드는 에러가 난다 이유는?\n",
        "    np.arange(6).reshape(2,4)\n",
        "    reshqpe(2,4)는 2행 4열로 8개의 원소필요\n",
        "    arange(6)은 6개이므로 원소의 갯수가 맞지 않는다."
      ],
      "metadata": {
        "id": "v94KRw0FDQch"
      }
    },
    {
      "cell_type": "markdown",
      "source": [
        "11. 다음과 같이 2차원 a11객체를 만드세요 [ [0 1 2]   [3 4 5 ] ]"
      ],
      "metadata": {
        "id": "aKyRl5onNIWF"
      }
    },
    {
      "cell_type": "code",
      "source": [
        "data = [ [0 ,1, 2] ,  [3 ,4, 5 ] ]\n",
        "a11 = np.array(data)\n",
        "print('11',all)"
      ],
      "metadata": {
        "id": "zOU8ITCQNNHE"
      },
      "execution_count": null,
      "outputs": []
    },
    {
      "cell_type": "markdown",
      "source": [
        "12. 1이 20개 저장된 아래의 a12객체를 만들어 보세요 (힌트 ones)\n",
        "     [ 1 1 1 1 1 1 1 1 1  1 1 1 1 1 1  1 1]"
      ],
      "metadata": {
        "id": "RDrasuefNPZR"
      }
    },
    {
      "cell_type": "code",
      "source": [
        "a12 = np.ones(20 , dtype=int)\n",
        "print('12',a12)"
      ],
      "metadata": {
        "id": "e7tM3u-UNUSy"
      },
      "execution_count": null,
      "outputs": []
    },
    {
      "cell_type": "markdown",
      "source": [
        "13. 4행 5열로 저장된 아래의 a13객체를 만드시오\n",
        "    [[1 1 1 1 1]\n",
        "    [1 1 1 1 1]\n",
        "    [1 1 1 1 1]\n",
        "    [1 1 1 1 1]]"
      ],
      "metadata": {
        "id": "_IbhVIN7NWTJ"
      }
    },
    {
      "cell_type": "code",
      "source": [
        "a13 = np.ones(20, dtype=int).reshape(4,5)\n",
        "print('13',a13)"
      ],
      "metadata": {
        "id": "8RHM35nbNcpS"
      },
      "execution_count": null,
      "outputs": []
    },
    {
      "cell_type": "markdown",
      "source": [
        "14.  255로 채워진 10 X 10 크기의 a14 객체를 생성하시오"
      ],
      "metadata": {
        "id": "5NSXVMMRNwJy"
      }
    },
    {
      "cell_type": "code",
      "source": [
        "a14 = np.ones(100, dtype=int).reshape(10,10)\n",
        "a14 = a14 * 255"
      ],
      "metadata": {
        "id": "cvjGiCN_NqPK"
      },
      "execution_count": null,
      "outputs": []
    },
    {
      "cell_type": "markdown",
      "source": [
        "15. 3 X 4 크기의 0으로 채워진 배열을 생성하시오 (힌트 zeros)"
      ],
      "metadata": {
        "id": "Ex4L27h7N0GJ"
      }
    },
    {
      "cell_type": "code",
      "source": [
        "a15= np.zeros((3,4))\n",
        "print('15',a15)"
      ],
      "metadata": {
        "id": "UJklA4fSNtMy"
      },
      "execution_count": null,
      "outputs": []
    },
    {
      "cell_type": "markdown",
      "source": [
        "16. [ 1, 2, 3]을 np.int32 타입의 a16 배열로 생성하시오(힌트 dtype)"
      ],
      "metadata": {
        "id": "luURvnhBNtuC"
      }
    },
    {
      "cell_type": "code",
      "source": [
        "data = [1,2,3]\n",
        "a16 = np.array(data,dtype=np.int32)\n",
        "print('16',a16)"
      ],
      "metadata": {
        "id": "YsjiQd2qNf2z"
      },
      "execution_count": null,
      "outputs": []
    },
    {
      "cell_type": "markdown",
      "source": [
        "17. 다음 배열의 데이터 타입을 확인해 보세요\n",
        "    a17 = np.array([ 1, 2, 3] )"
      ],
      "metadata": {
        "id": "pzZbIi7FN4aR"
      }
    },
    {
      "cell_type": "code",
      "source": [
        "a17 = np.array([ 1, 2, 3] )\n",
        "print('17',a17.dtype)"
      ],
      "metadata": {
        "colab": {
          "base_uri": "https://localhost:8080/"
        },
        "id": "qtPcVDqTN8qt",
        "outputId": "0e4b1c3b-3d6b-4e65-ac83-f7512176cc4e"
      },
      "execution_count": null,
      "outputs": [
        {
          "output_type": "stream",
          "name": "stdout",
          "text": [
            "17 int64\n"
          ]
        }
      ]
    },
    {
      "cell_type": "markdown",
      "source": [
        "18.  다음 배열의 데이터 타입을 확인해 보세요\n",
        "     a18 = np.array([ '1', '2', '3'] )"
      ],
      "metadata": {
        "id": "bv9ntER_OHEG"
      }
    },
    {
      "cell_type": "code",
      "source": [
        "a18 = np.array([ '1', '2', '3'] )\n",
        "print('18',a18.dtype)"
      ],
      "metadata": {
        "id": "SAgci9pIOJl1"
      },
      "execution_count": null,
      "outputs": []
    },
    {
      "cell_type": "markdown",
      "source": [
        "19. 다음 데이터를 np.int16 타입의 배열로 형변환해 보세요\n",
        "    a19 = np.array([ 1, 2, 3] )"
      ],
      "metadata": {
        "id": "_nqjCRWeOSy6"
      }
    },
    {
      "cell_type": "code",
      "source": [
        "a19 = np.array([ 1, 2, 3] )\n",
        "print('19 기본자료형', a19.dtype)\n",
        "a19 = a19.astype(np.int16)\n",
        "print('19 형변환한 자료형 ',a19.detype)"
      ],
      "metadata": {
        "id": "sTYUdhMPOYI0"
      },
      "execution_count": null,
      "outputs": []
    },
    {
      "cell_type": "markdown",
      "source": [
        "20. 300이 44로 출력되는 이유를 설명하세요\n",
        "    a = np.array( [ 255, 300, 128], dtype=np.uint8 )\n",
        "    a\n",
        "    [255  44 128]\n",
        "\n",
        "    300은 자료표현의 범위에서 벗어남(넘침) 다른 값 출력"
      ],
      "metadata": {
        "id": "OCluJTP2O2eJ"
      }
    },
    {
      "cell_type": "markdown",
      "source": [
        "21. 힌트 astype\n",
        "    a21배열은 float64 타입입니다. 이를 np.int32타입으로 변경하세요.\n",
        "    import numpy as np\n",
        "    a21=np.array([ 1.1, 2.1, 3.1 ])\n",
        "    a21"
      ],
      "metadata": {
        "id": "G8wc7WEAPAF6"
      }
    },
    {
      "cell_type": "code",
      "source": [
        "import numpy as np\n",
        "a21 = np.array([ 1.1, 2.1, 3.1 ])\n",
        "a21 = a21.astype(np.int32)\n",
        "print('21',a21)\n",
        "print('21 dtype', a21.dtype)"
      ],
      "metadata": {
        "colab": {
          "base_uri": "https://localhost:8080/"
        },
        "id": "ClilzFZSO39l",
        "outputId": "0ba4d875-c4e0-4ff2-c99a-d7c9c1948854"
      },
      "execution_count": null,
      "outputs": [
        {
          "output_type": "stream",
          "name": "stdout",
          "text": [
            "21 [1 2 3]\n",
            "21 dtype int32\n"
          ]
        }
      ]
    },
    {
      "cell_type": "markdown",
      "source": [
        "22. 0~10사이 구간을 20개의 포인터로 분할한 결과를 a22객체로 생성하시오(힌트 linespace)\n",
        "  array([ 0.        ,  0.52631579,  1.05263158,  1.57894737,  2.10526316,\n",
        "          2.63157895,  3.15789474,  3.68421053,  4.21052632,  4.73684211,\n",
        "          5.26315789,  5.78947368,  6.31578947,  6.84210526,  7.36842105,\n",
        "          7.89473684,  8.42105263,  8.94736842,  9.47368421, 10.        ])"
      ],
      "metadata": {
        "id": "5gBj16J1QkCa"
      }
    },
    {
      "cell_type": "code",
      "source": [
        "a22 = np.linspace (0,10,20)\n",
        "print('22',a21)"
      ],
      "metadata": {
        "colab": {
          "base_uri": "https://localhost:8080/"
        },
        "id": "8CrYCz9CQtuq",
        "outputId": "035c83e9-1431-49a2-f834-ce623ddb964a"
      },
      "execution_count": null,
      "outputs": [
        {
          "output_type": "stream",
          "name": "stdout",
          "text": [
            "22 [1 2 3]\n"
          ]
        }
      ]
    },
    {
      "cell_type": "markdown",
      "source": [
        "23.  아래 객체에서 마지막 행[6,7,8]을 출력해 보세요\n",
        "    a23 = np.arange(9).reshape(3, 3)\n",
        "    a23\n",
        "  [[0 1 2] [3 4 5] [6 7 8]]\n"
      ],
      "metadata": {
        "id": "pQYupGAZQum6"
      }
    },
    {
      "cell_type": "code",
      "source": [
        "a23 = np.arange(9).reshape(3, 3)\n",
        "print('23', a23[-1])"
      ],
      "metadata": {
        "id": "1Uo0nOjGRN4y"
      },
      "execution_count": null,
      "outputs": []
    },
    {
      "cell_type": "markdown",
      "source": [
        "24. 데이터 인덱싱\n",
        "   아래 객체에서 마지막 17 출력해 보세요\n",
        "  a24 = np.arange(25).reshape(5, 5)\n",
        "  a24\n",
        "  [[ 0  1  2  3  4]\n",
        "  [ 5  6  7  8  9]\n",
        "  [10 11 12 13 14]\n",
        "  [15 16 17 18 19]\n",
        "  [20 21 22 23 24]]"
      ],
      "metadata": {
        "id": "egPvzB3zRH0T"
      }
    },
    {
      "cell_type": "code",
      "source": [
        "a24 = np.arange(25).reshape(5, 5)\n",
        "print('24',a24[3,2])"
      ],
      "metadata": {
        "colab": {
          "base_uri": "https://localhost:8080/"
        },
        "id": "U3eyOTmwROiq",
        "outputId": "fc9e7af1-f644-40b7-cdc9-1e80a94c9dfe"
      },
      "execution_count": null,
      "outputs": [
        {
          "output_type": "stream",
          "name": "stdout",
          "text": [
            "24 17\n"
          ]
        }
      ]
    },
    {
      "cell_type": "markdown",
      "source": [
        " 25. 슬라이싱   [1 3]을 슬라이싱 하세요"
      ],
      "metadata": {
        "id": "3GMCOHDBRX99"
      }
    },
    {
      "cell_type": "code",
      "source": [
        "a25=np.arange(5)\n",
        "print('25',a25[1::2]) # [시작: 끝 : 증가]\n"
      ],
      "metadata": {
        "id": "lZMD_872NE3p"
      },
      "execution_count": null,
      "outputs": []
    },
    {
      "cell_type": "markdown",
      "source": [
        "26. [ 6 7 8 9]를 슬라이싱 하는 코드를 작성하기\n",
        "\n",
        "> a26 = np.arange(25).reshape(5, 5)\n",
        "\n",
        "> a26\n",
        "\n",
        "[[ 0  1  2  3  4]\n",
        "\n",
        " [ 5  6  7  8  9]\n",
        "\n",
        " [10 11 12 13 14]\n",
        "\n",
        " [15 16 17 18 19]\n",
        "\n",
        " [20 21 22 23 24]]\n"
      ],
      "metadata": {
        "id": "9vK7xozEU7YS"
      }
    },
    {
      "cell_type": "code",
      "source": [
        "a26 = np.arange(25).reshape(5, 5)\n",
        "print('26',a26[1,1:])"
      ],
      "metadata": {
        "id": "mR1nsxYpVpdL"
      },
      "execution_count": null,
      "outputs": []
    },
    {
      "cell_type": "markdown",
      "source": [
        "27. 첫번째와 두번째 컬럼을 슬라이싱하는 코드 작성\n",
        "\n",
        "> a27 = np.arange(25).reshape(5, 5)\n",
        "\n",
        "> a27\n",
        "\n",
        "[[ 0  1  2  3  4]\n",
        "\n",
        " [ 5  6  7  8  9]\n",
        "\n",
        " [10 11 12 13 14]\n",
        "\n",
        " [15 16 17 18 19]\n",
        "\n",
        " [20 21 22 23 24]]"
      ],
      "metadata": {
        "id": "HpTbZN4iVsFj"
      }
    },
    {
      "cell_type": "code",
      "source": [
        "a27 = np.arange(25).reshape(5,5)\n",
        "print('27',a27[:,:2])"
      ],
      "metadata": {
        "id": "wGvT-6QbV2qG"
      },
      "execution_count": null,
      "outputs": []
    },
    {
      "cell_type": "markdown",
      "source": [
        "28.  6. 7,11, 12 를 2x2 ndarray로 슬라이싱하는 코드를 작성하세요.\n",
        "\n",
        "> a28 = np.arange(25).reshape(5, 5)\n",
        "\n",
        "> a28\n",
        "\n",
        "[[ 0  1  2  3  4]\n",
        "\n",
        " [ 5  6  7  8  9]\n",
        "\n",
        " [10 11 12 13 14]\n",
        "\n",
        " [15 16 17 18 19]\n",
        "\n",
        " [20 21 22 23 24]]"
      ],
      "metadata": {
        "id": "Gf53GFPkVyPQ"
      }
    },
    {
      "cell_type": "code",
      "source": [
        "a28 = np.arange(25).reshape(5,5)\n",
        "print('28',a28[1:3,1:3])"
      ],
      "metadata": {
        "id": "s6TkG9EhV3KC"
      },
      "execution_count": null,
      "outputs": []
    },
    {
      "cell_type": "markdown",
      "source": [
        "29. 0 3 20 23 를 2x2 ndarray로 슬라이싱하는 코드를 작성하세요.\n",
        "> a29 = np.arange(25).reshape(5, 5)\n",
        "\n",
        "> a29\n",
        "\n",
        "[[ 0 1 2 3 4]\n",
        "\n",
        "[ 5 6 7 8 9]\n",
        "\n",
        "[10 11 12 13 14]\n",
        "\n",
        "[15 16 17 18 19]\n",
        "\n",
        "[20 21 22 23 24]]\n",
        "\n",
        "​"
      ],
      "metadata": {
        "id": "QkUPXhiLYW0P"
      }
    },
    {
      "cell_type": "code",
      "source": [
        "a29 = np.arange(25).reshape(5, 5)\n",
        "print('29-1',a29[0::4,0::3])\n",
        "print('29', a29[[0,0,-1,-1],[0,3,0,3]]) # ([행1, 행2, 행3, 행4], [열1, 열2, 열3, 열4])"
      ],
      "metadata": {
        "colab": {
          "base_uri": "https://localhost:8080/"
        },
        "id": "353HnZ3jYaVK",
        "outputId": "e560140b-5ccb-46dc-df36-8ce396fbae42"
      },
      "execution_count": null,
      "outputs": [
        {
          "output_type": "stream",
          "name": "stdout",
          "text": [
            "29-1 [[ 0  3]\n",
            " [20 23]]\n",
            "29 [ 0  3 20 23]\n"
          ]
        }
      ]
    },
    {
      "cell_type": "markdown",
      "source": [
        "30. 전체 데이터에 10을 곱한 결과를 a30에 저장하기\n",
        "\n",
        "data=[1,2,3]​"
      ],
      "metadata": {
        "id": "tS9r_QG2YcQz"
      }
    },
    {
      "cell_type": "code",
      "source": [
        "data=[1,2,3]\n",
        "a30 = np.array(data)*10\n",
        "print('30',a30)"
      ],
      "metadata": {
        "colab": {
          "base_uri": "https://localhost:8080/"
        },
        "id": "wuyHgXnoYyBm",
        "outputId": "af1e93c5-2f8b-4166-b555-59eb9c70f74e"
      },
      "execution_count": null,
      "outputs": [
        {
          "output_type": "stream",
          "name": "stdout",
          "text": [
            "30 [10 20 30]\n"
          ]
        }
      ]
    },
    {
      "cell_type": "markdown",
      "source": [
        "31. 다음 a31에는 중간고사의 국어점수(10), 영어점수(20), 기말고사의 국어점수(14), 영어점수(16)이 저장되 있다\n",
        "\n",
        "score = np.array([\n",
        "\n",
        "    [10, 20],  # 중간고사\n",
        "\n",
        "    [14, 16]   # 기말고사\n",
        "\n",
        "])\n",
        "\n",
        "​\n",
        "\n",
        "과목별 평균점수를 출력하세요\n",
        "\n",
        "결과 화면 [12. 18.]"
      ],
      "metadata": {
        "id": "QSs6YBEZYiB8"
      }
    },
    {
      "cell_type": "code",
      "source": [
        "a31 = np.array([[10, 20],  [14, 16]  ])\n",
        "print('31', a31.mean(axis=0))\n"
      ],
      "metadata": {
        "colab": {
          "base_uri": "https://localhost:8080/"
        },
        "id": "r_iiCbY9brv8",
        "outputId": "3654fd31-1780-4e80-aeb9-818b1f9e29b8"
      },
      "execution_count": null,
      "outputs": [
        {
          "output_type": "stream",
          "name": "stdout",
          "text": [
            "31 [12. 18.]\n"
          ]
        }
      ]
    },
    {
      "cell_type": "markdown",
      "source": [
        "32. 31번 문제에서 표준편차를 구하세요\n"
      ],
      "metadata": {
        "id": "GrK-AccxdV7v"
      }
    },
    {
      "cell_type": "code",
      "source": [
        "a31 = np.array([[10, 20],  [14, 16]  ])\n",
        "print('32', a31.std(axis=0))"
      ],
      "metadata": {
        "colab": {
          "base_uri": "https://localhost:8080/"
        },
        "id": "Yoc-yYIZfNNG",
        "outputId": "c6135b77-28d6-44cb-c9cd-750b613dda30"
      },
      "execution_count": null,
      "outputs": [
        {
          "output_type": "stream",
          "name": "stdout",
          "text": [
            "32 [2. 2.]\n"
          ]
        }
      ]
    },
    {
      "cell_type": "markdown",
      "source": [
        "33. 행과 열의 위치를 바꾼 행열을 전치행렬이라고 한다.\n",
        "a32 = np.arange(9).reshape(3,3)\n"
      ],
      "metadata": {
        "id": "GLL73JyAdXLt"
      }
    },
    {
      "cell_type": "code",
      "source": [
        "a33 = np.arange(9).reshape(3,3)\n",
        "print('33-원래',a33)\n",
        "print('33-전치행렬',a33.T)\n",
        "print('33-전치행렬',a33.transpose())"
      ],
      "metadata": {
        "id": "lIzqsOMIfXJ2"
      },
      "execution_count": null,
      "outputs": []
    },
    {
      "cell_type": "markdown",
      "source": [
        "34.  다음 배열에서 3보다 크고 7보다 작은 수만 출력하세요\n",
        "\n",
        "a34 = np.arange(10)\n"
      ],
      "metadata": {
        "id": "f9ddgpCVdZoO"
      }
    },
    {
      "cell_type": "code",
      "source": [
        "a34 = np.arange(10)\n",
        "print('34',a34[(a34>3) & (a34<7)])"
      ],
      "metadata": {
        "id": "xXXroUu9fxj3"
      },
      "execution_count": null,
      "outputs": []
    },
    {
      "cell_type": "markdown",
      "source": [
        "35. 다음 객체에서 음수를 출력하세요\n",
        "a35 = np.array([ -1, 2, -3, 4] )​"
      ],
      "metadata": {
        "id": "4b8Yr7I5dnbg"
      }
    },
    {
      "cell_type": "code",
      "source": [
        " a35 = np.array([ -1, 2, -3, 4] )\n",
        " print('35​',a35[(a35<0)])"
      ],
      "metadata": {
        "colab": {
          "base_uri": "https://localhost:8080/"
        },
        "id": "o7twylJrf90x",
        "outputId": "b53a4522-323d-4a90-c537-1da578f6c1c3"
      },
      "execution_count": null,
      "outputs": [
        {
          "output_type": "stream",
          "name": "stdout",
          "text": [
            "35​ [-1 -3]\n"
          ]
        }
      ]
    },
    {
      "cell_type": "markdown",
      "source": [
        "35. 다음 객체에서 음수를 0으로 바꾸세요\n",
        "a35 = np.array([ -1, 2, -3, 4] )"
      ],
      "metadata": {
        "id": "lIuTehWXdsos"
      }
    },
    {
      "cell_type": "code",
      "source": [
        "a35 = np.array([ -1, 2, -3, 4] )\n",
        "a35[a35<0]=0\n",
        "print('35',a35)"
      ],
      "metadata": {
        "colab": {
          "base_uri": "https://localhost:8080/"
        },
        "id": "ARPRytKcgNN1",
        "outputId": "ee7ec834-4fca-43d5-88d9-f41e2ed7373e"
      },
      "execution_count": null,
      "outputs": [
        {
          "output_type": "stream",
          "name": "stdout",
          "text": [
            "35 [0 2 0 4]\n"
          ]
        }
      ]
    },
    {
      "cell_type": "markdown",
      "source": [
        "36.  다음 객체에서 음수를 양수로 바꾸세요\n",
        "\n",
        "a36 = np.array([ -1, 2, -3, 4] )"
      ],
      "metadata": {
        "id": "i0vAgQ2hdv4d"
      }
    },
    {
      "cell_type": "code",
      "source": [
        "a36 = np.array([ -1, 2, -3, 4] )\n",
        "#a36[a36<0]=a36[a36<0]*-1\n",
        "print('36', np.abs(a36))\n",
        "print('36',a36)"
      ],
      "metadata": {
        "colab": {
          "base_uri": "https://localhost:8080/"
        },
        "id": "xHbNc7fPg9av",
        "outputId": "8940825f-d997-4a3e-ab55-fbaf4be92132"
      },
      "execution_count": null,
      "outputs": [
        {
          "output_type": "stream",
          "name": "stdout",
          "text": [
            "36 [1 2 3 4]\n",
            "36 [-1  2 -3  4]\n"
          ]
        }
      ]
    },
    {
      "cell_type": "markdown",
      "source": [
        "37. 다음 객체에서 양수 혹은 0이면 10을 더하고 음수는 10을 빼세요\n",
        "\n",
        "a37 = np.array([ -1, 2, -3, 4] )"
      ],
      "metadata": {
        "id": "6Njrc97kdzX8"
      }
    },
    {
      "cell_type": "code",
      "source": [
        "a37 = np.array([ -1, 2, -3, 4] )\n",
        "a37[a37>=0] = a37[a37>=0]+10\n",
        "a37[a37<0] = a37[a37<0] -10\n",
        "print('37', a37)"
      ],
      "metadata": {
        "id": "68tDGoXMhMw1"
      },
      "execution_count": null,
      "outputs": []
    },
    {
      "cell_type": "markdown",
      "source": [
        "38. numpy random 모듈의 shuffle 함수를 사용해서 입력 리스트의 원소들을 랜덤하게 썩어 보세요\n",
        "\n",
        " a38 = [ 1,2,3,4,5]"
      ],
      "metadata": {
        "id": "l3t2Mz7DeA4Y"
      }
    },
    {
      "cell_type": "code",
      "source": [
        "a38 = [ 1,2,3,4,5]\n",
        "print('38',np.random.shuffle(a38))"
      ],
      "metadata": {
        "colab": {
          "base_uri": "https://localhost:8080/"
        },
        "id": "QB_OAhBukxeY",
        "outputId": "b5e48ae1-eb80-47b1-b68b-b3027544d95e"
      },
      "execution_count": null,
      "outputs": [
        {
          "output_type": "stream",
          "name": "stdout",
          "text": [
            "38 None\n"
          ]
        }
      ]
    },
    {
      "cell_type": "markdown",
      "source": [
        "39. 다음 넘파이 배열의 최소값의 인덱스를 출력하세요(힌트 argmin)\n",
        "\n",
        "a39 = np.array([ 1,2,3,4,5] )"
      ],
      "metadata": {
        "id": "RSDiJkqieB9h"
      }
    },
    {
      "cell_type": "code",
      "source": [
        "a39 = np.array([1,2,3,4,5])\n",
        "print('39', np.argmin(a39))"
      ],
      "metadata": {
        "id": "KD3I8N3jlC63"
      },
      "execution_count": null,
      "outputs": []
    },
    {
      "cell_type": "markdown",
      "source": [
        "40. 다음 넘파이 배열의 최대값의 인덱스를 출력하세요(힌트 argmax)\n",
        "\n",
        "a40 = np.array([ 1,2,3,4,5] )"
      ],
      "metadata": {
        "id": "g9Dr8QUmeESo"
      }
    },
    {
      "cell_type": "code",
      "source": [
        "a40 = np.array([ 1,2,3,4,5] )\n",
        "print('40', np.argmax(a40))"
      ],
      "metadata": {
        "id": "NUg1tRYvlQgI"
      },
      "execution_count": null,
      "outputs": []
    },
    {
      "cell_type": "markdown",
      "source": [
        "41. 넘파이 배열을 오름차순 정렬해 보세요\n",
        "\n",
        "import numpy as np\n",
        "\n",
        "arr = np.array([2, 1, 5, 3, 7, 4, 6, 8])"
      ],
      "metadata": {
        "id": "TkxTKTCIeGdl"
      }
    },
    {
      "cell_type": "code",
      "source": [
        "import numpy as np\n",
        "\n",
        "arr = np.array([2, 1, 5, 3, 7, 4, 6, 8])\n",
        "print('41', np.sort(41))"
      ],
      "metadata": {
        "id": "GTTXG9M6dUI8"
      },
      "execution_count": null,
      "outputs": []
    },
    {
      "cell_type": "markdown",
      "source": [
        "42. numpy.vstack 함수를 사용하여 다음 2차원 배열을 생성하세요\n",
        "\n",
        "arr1 = np.array([1, 2])\n",
        "\n",
        "arr2 = np.array([3, 4])\n",
        "\n",
        "결과화면\n",
        "\n",
        "array([[1, 2],\n",
        "\n",
        "       [3, 4]])"
      ],
      "metadata": {
        "id": "PhcxoxI9lqGn"
      }
    },
    {
      "cell_type": "code",
      "source": [
        "arr1 = np.array([1, 2])\n",
        "\n",
        "arr2 = np.array([3, 4])\n",
        "\n",
        "a42 = np.vstack((arr1,arr2))\n",
        "\n",
        "print('42',a42)"
      ],
      "metadata": {
        "colab": {
          "base_uri": "https://localhost:8080/"
        },
        "id": "3vr8z9pglt7F",
        "outputId": "8f8b2a12-2a9d-4bb2-8ac2-1d2c1d113fb6"
      },
      "execution_count": null,
      "outputs": [
        {
          "output_type": "stream",
          "name": "stdout",
          "text": [
            "42 [[1 2]\n",
            " [3 4]]\n"
          ]
        }
      ]
    },
    {
      "cell_type": "markdown",
      "source": [
        "43. flatten 메소드를 이용하여 다음 배열을 1차원 배열로 변경하세요\n",
        "import numpy as np\n",
        "\n",
        "arr = np.array([ [1, 2], [3, 4] ])"
      ],
      "metadata": {
        "id": "CyI7suaNm92f"
      }
    },
    {
      "cell_type": "code",
      "source": [
        "\n",
        "import numpy as np\n",
        "\n",
        "a43 = np.array([ [1, 2], [3, 4] ])\n",
        "a43 = np.flatten(a43)\n",
        "print('43', a43)"
      ],
      "metadata": {
        "colab": {
          "base_uri": "https://localhost:8080/",
          "height": 331
        },
        "id": "mXiP8ehuU8BG",
        "outputId": "42fb1cf9-c3f4-4e2d-ef45-6cc6e76097e3"
      },
      "execution_count": null,
      "outputs": [
        {
          "output_type": "error",
          "ename": "AttributeError",
          "evalue": "module 'numpy' has no attribute 'flatten'",
          "traceback": [
            "\u001b[0;31m---------------------------------------------------------------------------\u001b[0m",
            "\u001b[0;31mAttributeError\u001b[0m                            Traceback (most recent call last)",
            "\u001b[0;32m<ipython-input-40-cdafacb5f807>\u001b[0m in \u001b[0;36m<cell line: 4>\u001b[0;34m()\u001b[0m\n\u001b[1;32m      2\u001b[0m \u001b[0;34m\u001b[0m\u001b[0m\n\u001b[1;32m      3\u001b[0m \u001b[0ma43\u001b[0m \u001b[0;34m=\u001b[0m \u001b[0mnp\u001b[0m\u001b[0;34m.\u001b[0m\u001b[0marray\u001b[0m\u001b[0;34m(\u001b[0m\u001b[0;34m[\u001b[0m \u001b[0;34m[\u001b[0m\u001b[0;36m1\u001b[0m\u001b[0;34m,\u001b[0m \u001b[0;36m2\u001b[0m\u001b[0;34m]\u001b[0m\u001b[0;34m,\u001b[0m \u001b[0;34m[\u001b[0m\u001b[0;36m3\u001b[0m\u001b[0;34m,\u001b[0m \u001b[0;36m4\u001b[0m\u001b[0;34m]\u001b[0m \u001b[0;34m]\u001b[0m\u001b[0;34m)\u001b[0m\u001b[0;34m\u001b[0m\u001b[0;34m\u001b[0m\u001b[0m\n\u001b[0;32m----> 4\u001b[0;31m \u001b[0ma43\u001b[0m \u001b[0;34m=\u001b[0m \u001b[0mnp\u001b[0m\u001b[0;34m.\u001b[0m\u001b[0mflatten\u001b[0m\u001b[0;34m(\u001b[0m\u001b[0ma43\u001b[0m\u001b[0;34m)\u001b[0m\u001b[0;34m\u001b[0m\u001b[0;34m\u001b[0m\u001b[0m\n\u001b[0m\u001b[1;32m      5\u001b[0m \u001b[0mprint\u001b[0m\u001b[0;34m(\u001b[0m\u001b[0;34m'43'\u001b[0m\u001b[0;34m,\u001b[0m \u001b[0ma43\u001b[0m\u001b[0;34m)\u001b[0m\u001b[0;34m\u001b[0m\u001b[0;34m\u001b[0m\u001b[0m\n",
            "\u001b[0;32m/usr/local/lib/python3.10/dist-packages/numpy/__init__.py\u001b[0m in \u001b[0;36m__getattr__\u001b[0;34m(attr)\u001b[0m\n\u001b[1;32m    326\u001b[0m             \u001b[0;32mraise\u001b[0m \u001b[0mRuntimeError\u001b[0m\u001b[0;34m(\u001b[0m\u001b[0;34m\"Tester was removed in NumPy 1.25.\"\u001b[0m\u001b[0;34m)\u001b[0m\u001b[0;34m\u001b[0m\u001b[0;34m\u001b[0m\u001b[0m\n\u001b[1;32m    327\u001b[0m \u001b[0;34m\u001b[0m\u001b[0m\n\u001b[0;32m--> 328\u001b[0;31m         raise AttributeError(\"module {!r} has no attribute \"\n\u001b[0m\u001b[1;32m    329\u001b[0m                              \"{!r}\".format(__name__, attr))\n\u001b[1;32m    330\u001b[0m \u001b[0;34m\u001b[0m\u001b[0m\n",
            "\u001b[0;31mAttributeError\u001b[0m: module 'numpy' has no attribute 'flatten'"
          ]
        }
      ]
    }
  ]
}