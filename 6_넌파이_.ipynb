{
  "nbformat": 4,
  "nbformat_minor": 0,
  "metadata": {
    "colab": {
      "provenance": [],
      "include_colab_link": true
    },
    "kernelspec": {
      "name": "python3",
      "display_name": "Python 3"
    },
    "language_info": {
      "name": "python"
    }
  },
  "cells": [
    {
      "cell_type": "markdown",
      "metadata": {
        "id": "view-in-github",
        "colab_type": "text"
      },
      "source": [
        "<a href=\"https://colab.research.google.com/github/anyoonee/ai/blob/%2Bphython/6_%EB%84%8C%ED%8C%8C%EC%9D%B4_.ipynb\" target=\"_parent\"><img src=\"https://colab.research.google.com/assets/colab-badge.svg\" alt=\"Open In Colab\"/></a>"
      ]
    },
    {
      "cell_type": "code",
      "execution_count": null,
      "metadata": {
        "colab": {
          "base_uri": "https://localhost:8080/"
        },
        "id": "jdyCPUvk0XjA",
        "outputId": "db488cf2-3e6a-4627-9151-433d49c26fc8"
      },
      "outputs": [
        {
          "output_type": "stream",
          "name": "stdout",
          "text": [
            "Requirement already satisfied: numpy in /usr/local/lib/python3.10/dist-packages (1.25.2)\n"
          ]
        }
      ],
      "source": [
        "!pip install numpy  # 넌파이 설치"
      ]
    },
    {
      "cell_type": "code",
      "source": [
        "import numpy as np # 넌파이 import\n",
        "a = np.array(0) # 스칼라 0차 배열\n",
        "print(a)\n",
        "print(a.ndim) # 0차원\n",
        "a2 = np.array( [ 1,2,3,4  ]  ) # 벡터\n",
        "print(a2)\n",
        "print( a2.ndim ) # 1차원\n",
        "a3 = np.array( [ [1,2,3], [4,5,6], [7,8,9] ] ) # 행렬(단면, 평면) 3 X 3\n",
        "print(a3)\n",
        "print( a3.ndim )\n",
        "a4 = np.array( [   [ [ 1,2],[3,4],[5,6] ],[ [7,8],[9,10],[11,12] ]    ]   )  # 텐서 2(면) X 3(행) X 2(열)\n",
        "print(a4)\n",
        "print( a4.shape )  # ( 2,3,2)\n",
        "# 3(면) X 2(행) X 2(열)\n",
        "a5=np.array( [  [[1,2],[3,4]], [[5,6],[7,8]], [[9,10],[11,12]] ] )\n",
        "print(a5)\n",
        "print( a5.shape )  # ( 3,2,2  )"
      ],
      "metadata": {
        "colab": {
          "base_uri": "https://localhost:8080/"
        },
        "id": "6iogK1xE2rNW",
        "outputId": "367af48a-4d07-4915-d3d0-988433c742b6"
      },
      "execution_count": null,
      "outputs": [
        {
          "output_type": "stream",
          "name": "stdout",
          "text": [
            "0\n",
            "0\n",
            "[1 2 3 4]\n",
            "1\n",
            "[[1 2 3]\n",
            " [4 5 6]\n",
            " [7 8 9]]\n",
            "2\n",
            "[[[ 1  2]\n",
            "  [ 3  4]\n",
            "  [ 5  6]]\n",
            "\n",
            " [[ 7  8]\n",
            "  [ 9 10]\n",
            "  [11 12]]]\n",
            "(2, 3, 2)\n",
            "[[[ 1  2]\n",
            "  [ 3  4]]\n",
            "\n",
            " [[ 5  6]\n",
            "  [ 7  8]]\n",
            "\n",
            " [[ 9 10]\n",
            "  [11 12]]]\n",
            "(3, 2, 2)\n"
          ]
        }
      ]
    },
    {
      "cell_type": "code",
      "source": [
        "# reshaping\n",
        "b = np.arange(12) # 1차원 벡터생성\n",
        "print(b)\n",
        "b.shape\n",
        "print( b.size, '~~~' )\n",
        "b.shape = 2, -1\n",
        "print(b)\n",
        "b.shape\n",
        "b.shape= 3,-1\n",
        "print(b)\n",
        "b.shape\n",
        "b.shape= -1,1\n",
        "print(b)\n",
        "b.shape\n",
        "b.shape = -1, 3\n",
        "print(b)\n",
        "b.shape\n",
        "b.shape= -1\n",
        "print(b)\n",
        "print( b.size,'~~~~')"
      ],
      "metadata": {
        "colab": {
          "base_uri": "https://localhost:8080/"
        },
        "id": "Zkfg5MlwAoHw",
        "outputId": "f6a224ea-8d5f-45cc-89a8-6f6cc7e05b43"
      },
      "execution_count": null,
      "outputs": [
        {
          "output_type": "stream",
          "name": "stdout",
          "text": [
            "[ 0  1  2  3  4  5  6  7  8  9 10 11]\n",
            "12 ~~~\n",
            "[[ 0  1  2  3  4  5]\n",
            " [ 6  7  8  9 10 11]]\n",
            "[[ 0  1  2  3]\n",
            " [ 4  5  6  7]\n",
            " [ 8  9 10 11]]\n",
            "[[ 0]\n",
            " [ 1]\n",
            " [ 2]\n",
            " [ 3]\n",
            " [ 4]\n",
            " [ 5]\n",
            " [ 6]\n",
            " [ 7]\n",
            " [ 8]\n",
            " [ 9]\n",
            " [10]\n",
            " [11]]\n",
            "[[ 0  1  2]\n",
            " [ 3  4  5]\n",
            " [ 6  7  8]\n",
            " [ 9 10 11]]\n",
            "[ 0  1  2  3  4  5  6  7  8  9 10 11]\n",
            "12 ~~~~\n"
          ]
        }
      ]
    },
    {
      "cell_type": "code",
      "source": [
        "# reshaping\n",
        "b = np.arange(13) # 1차원 벡터생성\n",
        "print(b)\n",
        "b.shape\n",
        "# b.shape = 2, -1 # 요소의 갯수가 안 맞으니깐 오류난다.\n",
        "print(b)"
      ],
      "metadata": {
        "colab": {
          "base_uri": "https://localhost:8080/"
        },
        "id": "loKphKqVCuRv",
        "outputId": "d88319b8-6386-49f6-8110-5c22003dd11f"
      },
      "execution_count": null,
      "outputs": [
        {
          "output_type": "stream",
          "name": "stdout",
          "text": [
            "[ 0  1  2  3  4  5  6  7  8  9 10 11 12]\n",
            "[ 0  1  2  3  4  5  6  7  8  9 10 11 12]\n"
          ]
        }
      ]
    },
    {
      "cell_type": "markdown",
      "source": [
        "- 자료형\n",
        "  - int형(정수)\n",
        "    - int64,int16, int8 uint64\n",
        "    - -2^63~2^63 -1 범위의 정수를 표현할 수 있다.\n",
        "    - -2^15 ~ 2^15 - 1\n",
        "    - 0 ~ 2^127 uint64의 정수표현의 범위 양의정수만 구한다.\n",
        "\n",
        "  - float형(실수) - 부동소숫점 표현방식,또는 실수표현방식 (자료검색할때)\n",
        "    - float64-소숫점 15까지 정확하다, float32- 6, float16-2\n",
        "    - 자료저장 모습 : 부호비트1비트      지수부(7비트)   가수부(8 or 24 or 58  )\n",
        "    - 소숫점아래를 저장하는 공간이 많이지게 하는 것\n",
        "    - 실수의 기본은 float64이다.\n",
        "\n",
        "  - complex형(복소수)\n",
        "    - complex128, complex64\n",
        "    "
      ],
      "metadata": {
        "id": "dU8haRXuDzHk"
      }
    },
    {
      "cell_type": "code",
      "source": [
        "# int32의 자료표현의 범위 -2147483648 ~ 2147483647까지 정수표현의 범위\n",
        "a=np.array( [1,3,5,7,9 ], np.int8) # 8비트 -2^7~ + 2^7 - 1  = -128 ~ 127까지 정수 표현할 수 있다.\n",
        "print( a )\n",
        "a.dtype\n",
        "a1=np.array( [ 2147483646, 2147483647, 2147483649 ], np.int64 )\n",
        "print(a1)\n",
        "a2=np.array( [ 2**63, 2**63+1, 2**63+2 ], np.uint64 )\n",
        "print( a2 )\n",
        "a2.dtype\n",
        "a3=np.array( [ 2**62, -2**62 ] )\n",
        "print( a3 )\n",
        "a3.dtype\n",
        "a4=np.array( [1,3,5,7,9 ] ) # 64비트로 처리\n",
        "print( a4 )\n",
        "a4.dtype\n",
        "# 결론 자료형을 명시하지 않으면 정수형의 기본은 int64이다.\n",
        "# 너무 큰 자료형이므로 메모리 절약을 위해서 int8, int16, int32로 바꿀 수 있다.\n"
      ],
      "metadata": {
        "colab": {
          "base_uri": "https://localhost:8080/"
        },
        "id": "cqDk3RyODwhv",
        "outputId": "70159f60-157d-4114-d57e-f448799d1651"
      },
      "execution_count": null,
      "outputs": [
        {
          "output_type": "stream",
          "name": "stdout",
          "text": [
            "[1 3 5 7 9]\n",
            "[2147483646 2147483647 2147483649]\n",
            "[9223372036854775808 9223372036854775809 9223372036854775810]\n",
            "[ 4611686018427387904 -4611686018427387904]\n",
            "[1 3 5 7 9]\n"
          ]
        },
        {
          "output_type": "execute_result",
          "data": {
            "text/plain": [
              "dtype('int64')"
            ]
          },
          "metadata": {},
          "execution_count": 3
        }
      ]
    },
    {
      "cell_type": "code",
      "source": [
        "# 실수형\n",
        "a = np.array( 3.141592653589793, np.float64 )\n",
        "print(a )\n",
        "a.dtype\n",
        "a2 = np.array( 3.14  )\n",
        "print(a2)\n",
        "a2.dtype"
      ],
      "metadata": {
        "colab": {
          "base_uri": "https://localhost:8080/"
        },
        "id": "rBWcW5WyNeCf",
        "outputId": "ff4c9e1e-1bc4-48fe-ec35-0b1a6c430540"
      },
      "execution_count": null,
      "outputs": [
        {
          "output_type": "stream",
          "name": "stdout",
          "text": [
            "3.141592653589793\n",
            "3.14\n"
          ]
        },
        {
          "output_type": "execute_result",
          "data": {
            "text/plain": [
              "dtype('float64')"
            ]
          },
          "metadata": {},
          "execution_count": 48
        }
      ]
    },
    {
      "cell_type": "code",
      "source": [
        "# 복소수\n",
        "a=np.array(  [ 1, 2j, 3+4j, 2.72 + 3.14j  ]   )\n",
        "print( a )\n",
        "a.dtype\n",
        "a.real # 실수만 추출함\n",
        "a.imag # 허수만 추출함\n",
        "print(a.real.dtype, '!!' )\n",
        "print( a.imag.dtype, '~~' )"
      ],
      "metadata": {
        "colab": {
          "base_uri": "https://localhost:8080/"
        },
        "id": "3ReuqxdjS7va",
        "outputId": "4f42eb73-894b-430a-82c9-4bf31d49e4c1"
      },
      "execution_count": null,
      "outputs": [
        {
          "output_type": "stream",
          "name": "stdout",
          "text": [
            "[1.  +0.j   0.  +2.j   3.  +4.j   2.72+3.14j]\n",
            "float64 !!\n",
            "float64 ~~\n"
          ]
        }
      ]
    },
    {
      "cell_type": "markdown",
      "source": [
        "1. 인덱싱 indexing\n",
        "  1) 1DArray\n",
        "  2) 2DArray\n",
        "2. 슬라이싱 slicing\n",
        "  1) 1DArray\n",
        "  2) 2DArray\n",
        "3. iterating\n",
        "  1) 1DArray\n",
        "  2) 2DArray"
      ],
      "metadata": {
        "id": "lUTAl3HzVXNJ"
      }
    },
    {
      "cell_type": "code",
      "source": [
        "# 인덱싱 indexing 1) 1DArray\n",
        "a=np.array( [1,3,5,7,9] )\n",
        "print(a)\n",
        "print( a.ndim )\n",
        "print( a.shape )\n",
        "print(a[0])\n",
        "print(a[3])\n",
        "print(a[4])\n",
        "print(a[-1])\n",
        "print(a[-2])"
      ],
      "metadata": {
        "colab": {
          "base_uri": "https://localhost:8080/"
        },
        "id": "EdVscFwWVWgh",
        "outputId": "06972d9a-d658-44ca-deb1-de258fcf96da"
      },
      "execution_count": null,
      "outputs": [
        {
          "output_type": "stream",
          "name": "stdout",
          "text": [
            "[1 3 5 7 9]\n",
            "1\n",
            "(5,)\n",
            "1\n",
            "7\n",
            "9\n",
            "9\n",
            "7\n"
          ]
        }
      ]
    },
    {
      "cell_type": "code",
      "source": [
        "# 인덱싱 indexing  2) 2DArray\n",
        "a2 = np.array( [  [1,3,5],[2,4,6]  ])\n",
        "print(a2)\n",
        "print(a2.ndim )\n",
        "print(a2.shape)\n",
        "# 1, 5, 4 추출하기\n",
        "print( a2[0,0], a2[0,2], a2[1,1] )\n",
        "# 6, 3\n",
        "print( a2[1,2], a2[0,1])\n",
        "# 3값을 13을 바꾸기\n",
        "a2[0,1] = 13\n",
        "# 2값을 25로 바꾸기\n",
        "a2[1,0] = 25\n",
        "print( a2 )\n",
        "# 0번행 전체의 값에다 + 10을 한다면\n",
        "print( a2[0])\n",
        "print( a2[ 0, :  ])\n",
        "print( a2[0, 0:3])\n",
        "a2[0] = a2[0] + 10\n",
        "print( a2[0])\n",
        "# 1번행에 2를 전부 곱하기\n",
        "a2[1] = a2[1] * 2\n",
        "a2[1] *= 2\n",
        "# 1번열에 2를 전부 나누기\n",
        "a2[:, 1:2] =  a2[ :, 1:2 ] / 2\n",
        "\n",
        "print( a2 )"
      ],
      "metadata": {
        "colab": {
          "base_uri": "https://localhost:8080/"
        },
        "id": "rYgAmZPHWwdA",
        "outputId": "99326e0a-209b-4406-9299-dc1f4e8ff8db"
      },
      "execution_count": null,
      "outputs": [
        {
          "output_type": "stream",
          "name": "stdout",
          "text": [
            "[[1 3 5]\n",
            " [2 4 6]]\n",
            "2\n",
            "(2, 3)\n",
            "1 5 4\n",
            "6 3\n",
            "[[ 1 13  5]\n",
            " [25  4  6]]\n",
            "[ 1 13  5]\n",
            "[ 1 13  5]\n",
            "[ 1 13  5]\n",
            "[11 23 15]\n",
            "[[ 11  11  15]\n",
            " [100   8  24]]\n"
          ]
        }
      ]
    },
    {
      "cell_type": "code",
      "source": [
        "# 슬라이싱 slicing 1) 1DArray 2) 2DArray\n",
        "a=np.array([1,3,5,7,9])\n",
        "print(a.ndim)\n",
        "print(a.shape) # (5, )\n",
        "print( a[:])  # [1 3 5 7 9]\n",
        "print(a[0:])\n",
        "print(a[1:])\n",
        "print(a[2:])\n",
        "print(a[3:])\n",
        "print( a[:0] ) # []\n",
        "print(a[:1])\n",
        "print(a[:2])\n",
        "# print(a[1, 3, 5])  error\n",
        "print(a[:-1])\n",
        "print(a[:-2])\n",
        "print(a[1:4]) # 3 5 7\n",
        "\n",
        "a2=np.arange(10) # 0~9까지 연속적인 수의 배열 만들기\n",
        "print(a2)\n",
        "print( a2[::2] ) # 처음인덱스 포함 : 끝인덱스 포함안됨 :증가인덱스 증가가 +1, -1이면 생략함  [0 2 4 6 8]\n",
        "print( a2[::3] ) # [0 3 6 9]\n",
        "print( a2[::-1] ) # [9 8 7 6 5 4 3 2 1 0]\n",
        "print( a2[::-2] ) # [9 7 5 3 1]\n",
        "print( a2[1::2]) # [1,3,5,7,9]\n",
        "print( a2[:-2:2]) # [0 2 4 6]\n",
        "print( a2[:-4:2] ) # [0, 2, 4]\n",
        "print( a2[2:-2:2] )  #[2,4,6]\n",
        "\n",
        "a3=np.arange( 15 )\n",
        "# 1,3,5,7,9 출력하기\n",
        "print( a3[1:10:2])\n",
        "# 2,4,6,8,10,12 출력하기\n",
        "print( a3[2:13:2])\n",
        "# 14,13,12,11,10 출력하기\n",
        "print( a3[ -1:9:-1] )\n",
        "# 전부다 출력하기\n",
        "print(a3[::])\n",
        "# 1열 전부 다 출력하기 [1]\n",
        "print(a3[1:2])\n",
        "# 맨 마지막 열만 출력하기 [14]\n",
        "print(a3[-1:-2:-1])\n",
        "print(a3[-1::])"
      ],
      "metadata": {
        "colab": {
          "base_uri": "https://localhost:8080/"
        },
        "id": "pj6NQT-Lct_Q",
        "outputId": "e98b97b8-6f27-4853-bf61-3a6759b1e654"
      },
      "execution_count": null,
      "outputs": [
        {
          "output_type": "stream",
          "name": "stdout",
          "text": [
            "1\n",
            "(5,)\n",
            "[1 3 5 7 9]\n",
            "[1 3 5 7 9]\n",
            "[3 5 7 9]\n",
            "[5 7 9]\n",
            "[7 9]\n",
            "[]\n",
            "[1]\n",
            "[1 3]\n",
            "[1 3 5 7]\n",
            "[1 3 5]\n",
            "[3 5 7]\n",
            "[0 1 2 3 4 5 6 7 8 9]\n",
            "[0 2 4 6 8]\n",
            "[0 3 6 9]\n",
            "[9 8 7 6 5 4 3 2 1 0]\n",
            "[9 7 5 3 1]\n",
            "[1 3 5 7 9]\n",
            "[0 2 4 6]\n",
            "[0 2 4]\n",
            "[2 4 6]\n",
            "[1 3 5 7 9]\n",
            "[ 2  4  6  8 10 12]\n",
            "[14 13 12 11 10]\n",
            "[ 0  1  2  3  4  5  6  7  8  9 10 11 12 13 14]\n",
            "[1]\n",
            "[14]\n",
            "[14]\n"
          ]
        }
      ]
    },
    {
      "cell_type": "code",
      "source": [
        "# 슬라이싱 slicing 2D Array\n",
        "a=np.arange(10,25).reshape(3,5)\n",
        "# print(a)\n",
        "# print(a.ndim)\n",
        "# print(a.shape)\n",
        "# print( a[:])\n",
        "# print( a[0:] )\n",
        "# print( a[1:] ) # 1행부터 끝행까지\n",
        "# print( a[-1:] ) # 제일 마지막행\n",
        "# print( a[-2:] )\n",
        "# print( a[-3:] )\n",
        "# print( a[:0], '~' )\n",
        "# print( a[:1], '~~' ) # 0행\n",
        "# print( a[:-1], '~~~' ) # 0행 1행\n",
        "# print( a[ : ,  :   ])\n",
        "# print( a[ : , -3: ])\n",
        "# print( a[ : , 1:-1 ])\n",
        "\n",
        "# 16 17\n",
        "# 21 22\n",
        "# print( a[ 1: , 1:3 ])\n",
        "\n",
        "# 13 14\n",
        "# 18 19\n",
        "# 23 24\n",
        "# print( a[ : , 3: ])\n",
        "\n",
        "a=np.arange(10,25).reshape(3,5)\n",
        "# 10~100까지 9X10 2차원 배열 만드세요\n",
        "a=np.arange(10, 100).reshape( 9, 10 )\n",
        "print( a )\n",
        "\n",
        "# 26 27 28\n",
        "# 36 37 38\n",
        "# 46 47 48\n",
        "# 56 57 58\n",
        "print( a[ 1:5 , -4:-1] )\n"
      ],
      "metadata": {
        "colab": {
          "base_uri": "https://localhost:8080/"
        },
        "id": "pHzIrOcgjaKC",
        "outputId": "8c271c81-e831-4c88-fc82-9759a7905785"
      },
      "execution_count": null,
      "outputs": [
        {
          "output_type": "stream",
          "name": "stdout",
          "text": [
            "[[10 11 12 13 14 15 16 17 18 19]\n",
            " [20 21 22 23 24 25 26 27 28 29]\n",
            " [30 31 32 33 34 35 36 37 38 39]\n",
            " [40 41 42 43 44 45 46 47 48 49]\n",
            " [50 51 52 53 54 55 56 57 58 59]\n",
            " [60 61 62 63 64 65 66 67 68 69]\n",
            " [70 71 72 73 74 75 76 77 78 79]\n",
            " [80 81 82 83 84 85 86 87 88 89]\n",
            " [90 91 92 93 94 95 96 97 98 99]]\n",
            "[[26 27 28]\n",
            " [36 37 38]\n",
            " [46 47 48]\n",
            " [56 57 58]]\n"
          ]
        }
      ]
    },
    {
      "cell_type": "code",
      "source": [
        " #  iterating - 반복자  1) 1DArray\n",
        " a = np.arange( 11 )**3\n",
        " print(a)\n",
        " for a1 in a :\n",
        "     print( a1 )"
      ],
      "metadata": {
        "colab": {
          "base_uri": "https://localhost:8080/"
        },
        "id": "qzP1eLM5Zp3w",
        "outputId": "e64155a4-a1e7-4a50-c39f-3c730211dcc0"
      },
      "execution_count": null,
      "outputs": [
        {
          "output_type": "stream",
          "name": "stdout",
          "text": [
            "[   0    1    8   27   64  125  216  343  512  729 1000]\n",
            "0\n",
            "1\n",
            "8\n",
            "27\n",
            "64\n",
            "125\n",
            "216\n",
            "343\n",
            "512\n",
            "729\n",
            "1000\n"
          ]
        }
      ]
    },
    {
      "cell_type": "code",
      "source": [
        "#  iterating - 반복자  2) 2DArray\n",
        "# 10~21 3X4 배열을 만드시오\n",
        "b = np.arange(10,22).reshape( 3, 4)\n",
        "# print( b )\n",
        "for bb in b :\n",
        "  print(bb) # 한행씩 출력된다.\n",
        "\n",
        "# 요소별 출력하기\n",
        "for b1 in b:\n",
        "   for  b2  in b1 :\n",
        "       print(b2)\n"
      ],
      "metadata": {
        "colab": {
          "base_uri": "https://localhost:8080/"
        },
        "id": "E7fRxEf44waC",
        "outputId": "8a83e972-56b2-436d-9cd7-e040bb62de6f"
      },
      "execution_count": null,
      "outputs": [
        {
          "output_type": "stream",
          "name": "stdout",
          "text": [
            "[10 11 12 13]\n",
            "[14 15 16 17]\n",
            "[18 19 20 21]\n",
            "10\n",
            "11\n",
            "12\n",
            "13\n",
            "14\n",
            "15\n",
            "16\n",
            "17\n",
            "18\n",
            "19\n",
            "20\n",
            "21\n"
          ]
        }
      ]
    },
    {
      "cell_type": "markdown",
      "source": [
        "### 배열의 명령어 Array Operations\n",
        "arange\n",
        "linespace\n",
        "transpose\n",
        "reshape\n",
        "r_\n",
        "c_\n",
        "concatenate\n",
        "hstack, vstack\n",
        "zeros\n",
        "ones\n",
        "full\n",
        "empty\n"
      ],
      "metadata": {
        "id": "_cogsXRi6a2M"
      }
    },
    {
      "cell_type": "code",
      "source": [
        "# arange\n",
        "a = np.arange(10, 101, 5) # 형식 np.arange([시작수,] 끝수[, 증가수, 자료형])\n",
        "print(a )\n",
        "a = np.arange(10, dtype= np.float32 )\n",
        "print( a )\n",
        "# 0. 0.1 0.2 ... 0.9\n",
        "a = np.arange( 0.0, 1.0 , 0.1, dtype=np.float32  )\n",
        "a = np.arange( 0, 1, 0.1  )\n",
        "print( a )\n",
        "print( a.dtype )"
      ],
      "metadata": {
        "colab": {
          "base_uri": "https://localhost:8080/"
        },
        "id": "ma-iUUR56XOr",
        "outputId": "a8f1c053-9340-4ed0-c034-4e9d4cab970f"
      },
      "execution_count": null,
      "outputs": [
        {
          "output_type": "stream",
          "name": "stdout",
          "text": [
            "[ 10  15  20  25  30  35  40  45  50  55  60  65  70  75  80  85  90  95\n",
            " 100]\n",
            "[0. 1. 2. 3. 4. 5. 6. 7. 8. 9.]\n",
            "[0.  0.1 0.2 0.3 0.4 0.5 0.6 0.7 0.8 0.9]\n",
            "float64\n"
          ]
        }
      ]
    },
    {
      "cell_type": "code",
      "source": [
        "# linespace\n",
        "a = np.linspace(0, 1, 5)  # 시작수, 끝수포함, 갯수\n",
        "print( a )\n"
      ],
      "metadata": {
        "colab": {
          "base_uri": "https://localhost:8080/"
        },
        "id": "ycGqfNDb_gP-",
        "outputId": "5a272404-1d8c-444f-9c6e-f8285a05b50c"
      },
      "execution_count": null,
      "outputs": [
        {
          "output_type": "stream",
          "name": "stdout",
          "text": [
            "[0.   0.25 0.5  0.75 1.  ]\n"
          ]
        }
      ]
    },
    {
      "cell_type": "code",
      "source": [
        "#transpose 열을 행으로 바꾼것\n",
        "a = np.array( [ [1,2,3], [4,5,6] ] )\n",
        "b = a.T # 열을 행으로 바꾼것\n",
        "print(a )\n",
        "print(b)\n",
        "b2 = np.transpose(a) # 열을 행으로 바꾼것\n",
        "print(b2)\n",
        "bb2 = np.transpose(b2)\n",
        "print(bb2)\n",
        "aa = b.T\n",
        "print( aa )"
      ],
      "metadata": {
        "colab": {
          "base_uri": "https://localhost:8080/"
        },
        "id": "XsKyS4qeAJe4",
        "outputId": "9fbf3b9f-b83e-4885-8321-4ff2e0484cf3"
      },
      "execution_count": null,
      "outputs": [
        {
          "output_type": "stream",
          "name": "stdout",
          "text": [
            "[[1 2 3]\n",
            " [4 5 6]]\n",
            "[[1 4]\n",
            " [2 5]\n",
            " [3 6]]\n",
            "[[1 4]\n",
            " [2 5]\n",
            " [3 6]]\n",
            "[[1 2 3]\n",
            " [4 5 6]]\n",
            "[[1 2 3]\n",
            " [4 5 6]]\n"
          ]
        }
      ]
    },
    {
      "cell_type": "code",
      "source": [
        "# reshape( 행수, 열수)\n",
        "a=np.array([1,2,3,4,5,6]).reshape( 2,3 )\n",
        "print( a )"
      ],
      "metadata": {
        "colab": {
          "base_uri": "https://localhost:8080/"
        },
        "id": "GkmUTv2pBtuT",
        "outputId": "cad057a3-554d-4690-964c-b4f7f438810d"
      },
      "execution_count": null,
      "outputs": [
        {
          "output_type": "stream",
          "name": "stdout",
          "text": [
            "[[1]\n",
            " [2]\n",
            " [3]\n",
            " [4]\n",
            " [5]\n",
            " [6]]\n"
          ]
        }
      ]
    },
    {
      "cell_type": "code",
      "source": [
        "# r_  row 행으로 합치기\n",
        "a = np.array( [ 1,2,3 ])\n",
        "b = np.array( [4,5,6,7])\n",
        "print(a)\n",
        "print(b)\n",
        "c = np.r_[a,b]\n",
        "print( c )"
      ],
      "metadata": {
        "colab": {
          "base_uri": "https://localhost:8080/"
        },
        "id": "-DP-fNNQCO2d",
        "outputId": "667e4218-e92d-43b0-c425-fcc177a4ac14"
      },
      "execution_count": null,
      "outputs": [
        {
          "output_type": "stream",
          "name": "stdout",
          "text": [
            "[1 2 3]\n",
            "[4 5 6 7]\n",
            "[1 2 3 4 5 6 7]\n"
          ]
        }
      ]
    },
    {
      "cell_type": "code",
      "source": [
        "# c_  column 열 형태로 합치기\n",
        "a = np.array( [ 1,2,3 ])\n",
        "b = np.array( [4,5,6])\n",
        "print(a)\n",
        "print(b)\n",
        "c = np.c_[a, b]\n",
        "print( c )"
      ],
      "metadata": {
        "colab": {
          "base_uri": "https://localhost:8080/"
        },
        "id": "UwxB-EJ-C2ev",
        "outputId": "140687a8-846a-4f6b-fbc5-90c85960f65e"
      },
      "execution_count": null,
      "outputs": [
        {
          "output_type": "stream",
          "name": "stdout",
          "text": [
            "[1 2 3]\n",
            "[4 5 6]\n",
            "[[1 4]\n",
            " [2 5]\n",
            " [3 6]]\n"
          ]
        }
      ]
    },
    {
      "cell_type": "code",
      "source": [
        "# concatenate\n",
        "a = np.array( [ 1,2,3 ])\n",
        "b = np.array( [4,5,6] )\n",
        "c = np.concatenate( (a,b) ) # a와 b배열을 행으로 합치기\n",
        "print( c )"
      ],
      "metadata": {
        "colab": {
          "base_uri": "https://localhost:8080/"
        },
        "id": "oSTh4Cd0DjMY",
        "outputId": "941b4b9e-7f85-45a9-d8bf-009c51f71cf3"
      },
      "execution_count": null,
      "outputs": [
        {
          "output_type": "stream",
          "name": "stdout",
          "text": [
            "[1 2 3 4 5 6]\n"
          ]
        }
      ]
    },
    {
      "cell_type": "code",
      "source": [
        "# concatenate 2d\n",
        "a=np.array( [ [1,2],[3,4]  ]    )\n",
        "b=np.array( [ [5,6],[7,8]  ]    )\n",
        "print(a)\n",
        "print(b)\n",
        "c = np.concatenate( (a,b), axis=0 ) #행으로 합치기\n",
        "print( c )\n",
        "c = np.concatenate( (a,b), axis=1 ) # 열로 합치기\n",
        "print( c )\n",
        "\n",
        "c = np.r_[ a, b] #행으로 합치기\n",
        "print(c )\n",
        "c=np.c_[a, b] # 열로 합치기\n",
        "print( c )\n",
        "\n"
      ],
      "metadata": {
        "colab": {
          "base_uri": "https://localhost:8080/"
        },
        "id": "Ku_W_PVME5hr",
        "outputId": "c38ae1b3-f13f-4224-edb8-f745848e3f5e"
      },
      "execution_count": null,
      "outputs": [
        {
          "output_type": "stream",
          "name": "stdout",
          "text": [
            "[[1 2]\n",
            " [3 4]]\n",
            "[[5 6]\n",
            " [7 8]]\n",
            "[[1 2]\n",
            " [3 4]\n",
            " [5 6]\n",
            " [7 8]]\n",
            "[[1 2 5 6]\n",
            " [3 4 7 8]]\n",
            "[[1 2]\n",
            " [3 4]\n",
            " [5 6]\n",
            " [7 8]]\n",
            "[[1 2 5 6]\n",
            " [3 4 7 8]]\n"
          ]
        }
      ]
    },
    {
      "cell_type": "code",
      "source": [],
      "metadata": {
        "id": "jbd6AxdIa7PA"
      },
      "execution_count": null,
      "outputs": []
    },
    {
      "cell_type": "code",
      "source": [
        "# hstack-수평, vstack-수직\n",
        "a=np.array( [ [1,2],[3,4]  ]    )\n",
        "b=np.array( [ [5,6],[7,8]  ]    )\n",
        "c = np.hstack( (a, b) )  # ( 튜플 ) { 딕셔너리 } [ list]\n",
        "print( c )\n",
        "c1 = np.vstack( ( a,b )   )\n",
        "print( c1 )"
      ],
      "metadata": {
        "colab": {
          "base_uri": "https://localhost:8080/"
        },
        "id": "CrnUZfeNGqU0",
        "outputId": "c3c5a949-062a-4835-caf1-9ae87997750b"
      },
      "execution_count": null,
      "outputs": [
        {
          "output_type": "stream",
          "name": "stdout",
          "text": [
            "[[1 2 5 6]\n",
            " [3 4 7 8]]\n",
            "[[1 2]\n",
            " [3 4]\n",
            " [5 6]\n",
            " [7 8]]\n"
          ]
        }
      ]
    },
    {
      "cell_type": "code",
      "source": [
        "a=np.zeros(5) # 5열 전체에 0으로 채우기\n",
        "print(a)\n",
        "a=np.ones(5) # 5열 전체에 1로 채우기\n",
        "print(a)\n",
        "a2 = np.zeros( (3,5) ) # 3행 5열\n",
        "print( a2 )\n",
        "# 5X4 1\n",
        "a3 = np.ones( (5, 4 )  )\n",
        "print( a3 )\n",
        "print( a.dtype )\n",
        "print( a.ndim )\n",
        "# 모든 요소값을 전부 5로 하고 싶다\n",
        "a=np.full( 10, 5) # 10열 5값을 전부 넣기\n",
        "print( a )\n",
        "# 3행 4열에 모든 값일 7로 넣고 싶다\n",
        "c = np.full( (3,4), 7 )\n",
        "print( c )"
      ],
      "metadata": {
        "colab": {
          "base_uri": "https://localhost:8080/"
        },
        "id": "P7ofkZabII0K",
        "outputId": "1a42ba11-0330-446e-bd24-e37d1de141f2"
      },
      "execution_count": null,
      "outputs": [
        {
          "output_type": "stream",
          "name": "stdout",
          "text": [
            "[0. 0. 0. 0. 0.]\n",
            "[1. 1. 1. 1. 1.]\n",
            "[[0. 0. 0. 0. 0.]\n",
            " [0. 0. 0. 0. 0.]\n",
            " [0. 0. 0. 0. 0.]]\n",
            "[[1. 1. 1. 1.]\n",
            " [1. 1. 1. 1.]\n",
            " [1. 1. 1. 1.]\n",
            " [1. 1. 1. 1.]\n",
            " [1. 1. 1. 1.]]\n",
            "float64\n",
            "1\n",
            "[5 5 5 5 5 5 5 5 5 5]\n",
            "[[7 7 7 7]\n",
            " [7 7 7 7]\n",
            " [7 7 7 7]]\n"
          ]
        }
      ]
    },
    {
      "cell_type": "code",
      "source": [
        "# empty 항목을 초기화하지 않고 주어진 모양과 유형의 새 배열을 반환\n",
        "a = np.empty(4)\n",
        "print( a )\n",
        "a = np.empty(4, dtype=np.int64)\n",
        "print( a )\n",
        "a = np.empty( (2,4), dtype=np.int32 )\n",
        "print( a )"
      ],
      "metadata": {
        "colab": {
          "base_uri": "https://localhost:8080/"
        },
        "id": "k76fBWcZMOvR",
        "outputId": "02ee848d-9ef0-4687-a13f-62ba290adc41"
      },
      "execution_count": null,
      "outputs": [
        {
          "output_type": "stream",
          "name": "stdout",
          "text": [
            "[4.9e-324 9.9e-324 1.5e-323 2.0e-323]\n",
            "[1 2 3 4]\n",
            "[[1 0 2 0]\n",
            " [3 0 4 0]]\n"
          ]
        }
      ]
    },
    {
      "cell_type": "markdown",
      "source": [
        "### Math Operation 수학 함수들(명령어들)\n",
        "- Broadcasting : - + * / % **\n",
        "- Matrix Multiplication 행렬곱\n",
        "- 제곱근, 제곱합\n",
        "- 합계\n",
        "- 누적합\n",
        "- 평균"
      ],
      "metadata": {
        "id": "cXy1pqHRONx1"
      }
    },
    {
      "cell_type": "code",
      "source": [
        "# Broadcasting : 배열 연산\n",
        "a = np.array( [  [1,2,3], [4,5,6] ] )\n",
        "b = np.array( [  [2,2,2], [3,3,3] ]  )\n",
        "print( a + b)\n",
        "print( a - b)\n",
        "print( a * b)\n",
        "print( a / b)\n",
        "print( a % b)  # 나머지\n",
        "print( a ** b) # 제곱\n"
      ],
      "metadata": {
        "colab": {
          "base_uri": "https://localhost:8080/"
        },
        "id": "ZQiv9Jf_OMyx",
        "outputId": "75ac6e7c-b504-4d40-c097-1a081f5fdf78"
      },
      "execution_count": null,
      "outputs": [
        {
          "output_type": "stream",
          "name": "stdout",
          "text": [
            "[[3 4 5]\n",
            " [7 8 9]]\n",
            "[[-1  0  1]\n",
            " [ 1  2  3]]\n",
            "[[ 2  4  6]\n",
            " [12 15 18]]\n",
            "[[0.5        1.         1.5       ]\n",
            " [1.33333333 1.66666667 2.        ]]\n",
            "[[1 0 1]\n",
            " [1 2 0]]\n",
            "[[  1   4   9]\n",
            " [ 64 125 216]]\n"
          ]
        }
      ]
    },
    {
      "cell_type": "code",
      "source": [
        "# 행렬 곱하기\n",
        "a = np.array( [  [1,2,3], [4,5,6] ] ) # 2 X 3\n",
        "b = np.array( [  [2,2], [3,3], [4,4] ]  ) # 3 X 2\n",
        "c = a@b # 행렬 곱하기\n",
        "print( c )\n",
        "c=np.matmul(a,b) # 행렬 곱하기\n",
        "print( c )"
      ],
      "metadata": {
        "colab": {
          "base_uri": "https://localhost:8080/"
        },
        "id": "dH4IDCbUPkys",
        "outputId": "237bebf0-cbf4-451b-dc7f-68834ba30a37"
      },
      "execution_count": null,
      "outputs": [
        {
          "output_type": "stream",
          "name": "stdout",
          "text": [
            "[[20 20]\n",
            " [47 47]]\n",
            "[[20 20]\n",
            " [47 47]]\n"
          ]
        }
      ]
    },
    {
      "cell_type": "code",
      "source": [
        "# 제곱\n",
        "a = np.array( [ 1,2,3,4])\n",
        "a1 = np.square( a )  # 제곱\n",
        "print( a1 )\n",
        "\n",
        "# 제곱근\n",
        "a = np.array( [ 1,2,3,4])\n",
        "print( np.sqrt( a ) )\n",
        "\n",
        "# 합계\n",
        "print( np.sum( a ) )\n",
        "# 평균\n",
        "print( np.average( a ))\n",
        "print( np.mean( a ))\n",
        "# 최대값\n",
        "print( np.max( a ))\n",
        "# 최소값\n",
        "print( np.min( a ))\n",
        "# 누적합\n",
        "a = np.array( [ 1,2,3,4,5])\n",
        "print( np.cumsum( a ) )\n",
        "# 누적곱\n",
        "a = np.arange(1,7)\n",
        "print(a )\n",
        "print( np.cumprod( a ))"
      ],
      "metadata": {
        "colab": {
          "base_uri": "https://localhost:8080/"
        },
        "id": "WSLp_WidRO7K",
        "outputId": "2d36eb33-bee9-45e6-abb9-b8ae01948410"
      },
      "execution_count": null,
      "outputs": [
        {
          "output_type": "stream",
          "name": "stdout",
          "text": [
            "[ 1  4  9 16]\n",
            "[1.         1.41421356 1.73205081 2.        ]\n",
            "10\n",
            "2.5\n",
            "2.5\n",
            "4\n",
            "1\n",
            "[ 1  3  6 10 15]\n",
            "[1 2 3 4 5 6]\n",
            "[  1   2   6  24 120 720]\n"
          ]
        }
      ]
    },
    {
      "cell_type": "markdown",
      "source": [
        "pi\n",
        "e\n",
        "exp\n",
        "sin\n",
        "cos\n",
        "tan\n",
        "log"
      ],
      "metadata": {
        "id": "V6GGIH0XTTZd"
      }
    },
    {
      "cell_type": "code",
      "source": [
        "from numpy import pi, e"
      ],
      "metadata": {
        "id": "HP_HxbS5TSLf"
      },
      "execution_count": null,
      "outputs": []
    },
    {
      "cell_type": "code",
      "source": [
        "print( pi )\n",
        "print( e )"
      ],
      "metadata": {
        "colab": {
          "base_uri": "https://localhost:8080/"
        },
        "id": "NGvGhjmMN-w3",
        "outputId": "4498de08-8b36-45d6-ed50-b9a657802a9e"
      },
      "execution_count": null,
      "outputs": [
        {
          "output_type": "stream",
          "name": "stdout",
          "text": [
            "3.141592653589793\n",
            "2.718281828459045\n"
          ]
        }
      ]
    },
    {
      "cell_type": "code",
      "source": [
        "import numpy as np\n",
        "np.exp( 1 )\n",
        "x = np.array( [0,1,2] )\n",
        "y= np.exp( x )\n",
        "print( y )"
      ],
      "metadata": {
        "colab": {
          "base_uri": "https://localhost:8080/"
        },
        "id": "us3x79d4UAuA",
        "outputId": "e180eaca-386c-4002-b25e-7e9dc4a82b25"
      },
      "execution_count": null,
      "outputs": [
        {
          "output_type": "stream",
          "name": "stdout",
          "text": [
            "[1.         2.71828183 7.3890561 ]\n"
          ]
        }
      ]
    },
    {
      "cell_type": "code",
      "source": [
        "import matplotlib.pyplot as plt # 그래프 그리기\n",
        "x = np.linspace( -2, 2, 100)\n",
        "y = np.exp( x )\n",
        "# print( y )\n",
        "plt.plot( x, y )\n",
        "plt.show()"
      ],
      "metadata": {
        "colab": {
          "base_uri": "https://localhost:8080/",
          "height": 430
        },
        "id": "R2_vV9GKUe6N",
        "outputId": "ee684f11-9ca9-494d-b211-e033c2ebd6c4"
      },
      "execution_count": null,
      "outputs": [
        {
          "output_type": "display_data",
          "data": {
            "text/plain": [
              "<Figure size 640x480 with 1 Axes>"
            ],
            "image/png": "[encoded data removed]"
          },
          "metadata": {}
        }
      ]
    },
    {
      "cell_type": "markdown",
      "source": [
        "random - 난수\n",
        "rand"
      ],
      "metadata": {
        "id": "uWayh0CRV2RC"
      }
    },
    {
      "cell_type": "code",
      "source": [
        "np.random.rand() # 1개 랜덤수\n",
        "print ( np.random.rand(3) )  # 3열짜리 랜덤수\n",
        "print ( np.random.rand( 3,5 ) )   # 3행 5열 짜리 랜덤수 구하기"
      ],
      "metadata": {
        "colab": {
          "base_uri": "https://localhost:8080/"
        },
        "id": "VMjeyv78V1CG",
        "outputId": "cb94f771-c15b-4449-efcb-ac3c05976194"
      },
      "execution_count": null,
      "outputs": [
        {
          "output_type": "stream",
          "name": "stdout",
          "text": [
            "[0.92352549 0.3286749  0.95276958]\n",
            "[[0.81437708 0.88869877 0.67861332 0.41144003 0.62318011]\n",
            " [0.45092323 0.3537702  0.91197062 0.43449989 0.49665546]\n",
            " [0.19149685 0.04936295 0.13705695 0.19267343 0.32690345]]\n"
          ]
        }
      ]
    },
    {
      "cell_type": "markdown",
      "source": [
        "### 파일로 저장하기  np.save( '파일명.npy', 넌파이자료 )\n",
        "### 파일로 불러오기  변수 = np.load( '파일명.npy')"
      ],
      "metadata": {
        "id": "igZccw7rWh5t"
      }
    },
    {
      "cell_type": "code",
      "source": [
        "# 0~99까지 10행 10열 2차원 배열 만들기\n",
        "a = np.arange( 0, 100).reshape(10, 10)\n",
        "print( a )\n",
        "np.save( 'test.npy', a)"
      ],
      "metadata": {
        "colab": {
          "base_uri": "https://localhost:8080/"
        },
        "id": "9UpAYS70WfGa",
        "outputId": "b97c732c-2647-4aad-d935-6909559f6da1"
      },
      "execution_count": null,
      "outputs": [
        {
          "output_type": "stream",
          "name": "stdout",
          "text": [
            "[[ 0  1  2  3  4  5  6  7  8  9]\n",
            " [10 11 12 13 14 15 16 17 18 19]\n",
            " [20 21 22 23 24 25 26 27 28 29]\n",
            " [30 31 32 33 34 35 36 37 38 39]\n",
            " [40 41 42 43 44 45 46 47 48 49]\n",
            " [50 51 52 53 54 55 56 57 58 59]\n",
            " [60 61 62 63 64 65 66 67 68 69]\n",
            " [70 71 72 73 74 75 76 77 78 79]\n",
            " [80 81 82 83 84 85 86 87 88 89]\n",
            " [90 91 92 93 94 95 96 97 98 99]]\n"
          ]
        }
      ]
    },
    {
      "cell_type": "code",
      "source": [
        "# 넌파이 불러오기\n",
        "k = np.load( 'test.npy')\n",
        "print( k )"
      ],
      "metadata": {
        "colab": {
          "base_uri": "https://localhost:8080/"
        },
        "id": "k6lKHLC4X4F5",
        "outputId": "b2f26ded-c395-405f-bd43-c08fe4aac2c8"
      },
      "execution_count": null,
      "outputs": [
        {
          "output_type": "stream",
          "name": "stdout",
          "text": [
            "[[ 0  1  2  3  4  5  6  7  8  9]\n",
            " [10 11 12 13 14 15 16 17 18 19]\n",
            " [20 21 22 23 24 25 26 27 28 29]\n",
            " [30 31 32 33 34 35 36 37 38 39]\n",
            " [40 41 42 43 44 45 46 47 48 49]\n",
            " [50 51 52 53 54 55 56 57 58 59]\n",
            " [60 61 62 63 64 65 66 67 68 69]\n",
            " [70 71 72 73 74 75 76 77 78 79]\n",
            " [80 81 82 83 84 85 86 87 88 89]\n",
            " [90 91 92 93 94 95 96 97 98 99]]\n"
          ]
        }
      ]
    },
    {
      "cell_type": "markdown",
      "source": [
        "# 우수 초콜릿 분석 하기"
      ],
      "metadata": {
        "id": "aYx0SWC_a73W"
      }
    },
    {
      "cell_type": "code",
      "source": [
        "import numpy as np\n",
        "from google.colab import files\n",
        "f = files.upload() # 파일 업로드하기\n",
        "data = np.loadtxt('chocolate_rating.csv', delimiter=',')"
      ],
      "metadata": {
        "colab": {
          "base_uri": "https://localhost:8080/",
          "height": 76
        },
        "id": "_GrSq8TTYR3S",
        "outputId": "5592bda6-ef3a-4ad2-92b9-16e266c4d59f"
      },
      "execution_count": null,
      "outputs": [
        {
          "output_type": "display_data",
          "data": {
            "text/plain": [
              "<IPython.core.display.HTML object>"
            ],
            "text/html": [
              "\n",
              "     <input type=\"file\" id=\"files-4060fedd-f2a0-42b2-8ad2-e9443cfdf1f1\" name=\"files[]\" multiple disabled\n",
              "        style=\"border:none\" />\n",
              "     <output id=\"result-4060fedd-f2a0-42b2-8ad2-e9443cfdf1f1\">\n",
              "      Upload widget is only available when the cell has been executed in the\n",
              "      current browser session. Please rerun this cell to enable.\n",
              "      </output>\n",
              "      <script>// Copyright 2017 Google LLC\n",
              "//\n",
              "// Licensed under the Apache License, Version 2.0 (the \"License\");\n",
              "// you may not use this file except in compliance with the License.\n",
              "// You may obtain a copy of the License at\n",
              "//\n",
              "//      http://www.apache.org/licenses/LICENSE-2.0\n",
              "//\n",
              "// Unless required by applicable law or agreed to in writing, software\n",
              "// distributed under the License is distributed on an \"AS IS\" BASIS,\n",
              "// WITHOUT WARRANTIES OR CONDITIONS OF ANY KIND, either express or implied.\n",
              "// See the License for the specific language governing permissions and\n",
              "// limitations under the License.\n",
              "\n",
              "/**\n",
              " * @fileoverview Helpers for google.colab Python module.\n",
              " */\n",
              "(function(scope) {\n",
              "function span(text, styleAttributes = {}) {\n",
              "  const element = document.createElement('span');\n",
              "  element.textContent = text;\n",
              "  for (const key of Object.keys(styleAttributes)) {\n",
              "    element.style[key] = styleAttributes[key];\n",
              "  }\n",
              "  return element;\n",
              "}\n",
              "\n",
              "// Max number of bytes which will be uploaded at a time.\n",
              "const MAX_PAYLOAD_SIZE = 100 * 1024;\n",
              "\n",
              "function _uploadFiles(inputId, outputId) {\n",
              "  const steps = uploadFilesStep(inputId, outputId);\n",
              "  const outputElement = document.getElementById(outputId);\n",
              "  // Cache steps on the outputElement to make it available for the next call\n",
              "  // to uploadFilesContinue from Python.\n",
              "  outputElement.steps = steps;\n",
              "\n",
              "  return _uploadFilesContinue(outputId);\n",
              "}\n",
              "\n",
              "// This is roughly an async generator (not supported in the browser yet),\n",
              "// where there are multiple asynchronous steps and the Python side is going\n",
              "// to poll for completion of each step.\n",
              "// This uses a Promise to block the python side on completion of each step,\n",
              "// then passes the result of the previous step as the input to the next step.\n",
              "function _uploadFilesContinue(outputId) {\n",
              "  const outputElement = document.getElementById(outputId);\n",
              "  const steps = outputElement.steps;\n",
              "\n",
              "  const next = steps.next(outputElement.lastPromiseValue);\n",
              "  return Promise.resolve(next.value.promise).then((value) => {\n",
              "    // Cache the last promise value to make it available to the next\n",
              "    // step of the generator.\n",
              "    outputElement.lastPromiseValue = value;\n",
              "    return next.value.response;\n",
              "  });\n",
              "}\n",
              "\n",
              "/**\n",
              " * Generator function which is called between each async step of the upload\n",
              " * process.\n",
              " * @param {string} inputId Element ID of the input file picker element.\n",
              " * @param {string} outputId Element ID of the output display.\n",
              " * @return {!Iterable<!Object>} Iterable of next steps.\n",
              " */\n",
              "function* uploadFilesStep(inputId, outputId) {\n",
              "  const inputElement = document.getElementById(inputId);\n",
              "  inputElement.disabled = false;\n",
              "\n",
              "  const outputElement = document.getElementById(outputId);\n",
              "  outputElement.innerHTML = '';\n",
              "\n",
              "  const pickedPromise = new Promise((resolve) => {\n",
              "    inputElement.addEventListener('change', (e) => {\n",
              "      resolve(e.target.files);\n",
              "    });\n",
              "  });\n",
              "\n",
              "  const cancel = document.createElement('button');\n",
              "  inputElement.parentElement.appendChild(cancel);\n",
              "  cancel.textContent = 'Cancel upload';\n",
              "  const cancelPromise = new Promise((resolve) => {\n",
              "    cancel.onclick = () => {\n",
              "      resolve(null);\n",
              "    };\n",
              "  });\n",
              "\n",
              "  // Wait for the user to pick the files.\n",
              "  const files = yield {\n",
              "    promise: Promise.race([pickedPromise, cancelPromise]),\n",
              "    response: {\n",
              "      action: 'starting',\n",
              "    }\n",
              "  };\n",
              "\n",
              "  cancel.remove();\n",
              "\n",
              "  // Disable the input element since further picks are not allowed.\n",
              "  inputElement.disabled = true;\n",
              "\n",
              "  if (!files) {\n",
              "    return {\n",
              "      response: {\n",
              "        action: 'complete',\n",
              "      }\n",
              "    };\n",
              "  }\n",
              "\n",
              "  for (const file of files) {\n",
              "    const li = document.createElement('li');\n",
              "    li.append(span(file.name, {fontWeight: 'bold'}));\n",
              "    li.append(span(\n",
              "        `(${file.type || 'n/a'}) - ${file.size} bytes, ` +\n",
              "        `last modified: ${\n",
              "            file.lastModifiedDate ? file.lastModifiedDate.toLocaleDateString() :\n",
              "                                    'n/a'} - `));\n",
              "    const percent = span('0% done');\n",
              "    li.appendChild(percent);\n",
              "\n",
              "    outputElement.appendChild(li);\n",
              "\n",
              "    const fileDataPromise = new Promise((resolve) => {\n",
              "      const reader = new FileReader();\n",
              "      reader.onload = (e) => {\n",
              "        resolve(e.target.result);\n",
              "      };\n",
              "      reader.readAsArrayBuffer(file);\n",
              "    });\n",
              "    // Wait for the data to be ready.\n",
              "    let fileData = yield {\n",
              "      promise: fileDataPromise,\n",
              "      response: {\n",
              "        action: 'continue',\n",
              "      }\n",
              "    };\n",
              "\n",
              "    // Use a chunked sending to avoid message size limits. See b/62115660.\n",
              "    let position = 0;\n",
              "    do {\n",
              "      const length = Math.min(fileData.byteLength - position, MAX_PAYLOAD_SIZE);\n",
              "      const chunk = new Uint8Array(fileData, position, length);\n",
              "      position += length;\n",
              "\n",
              "      const base64 = btoa(String.fromCharCode.apply(null, chunk));\n",
              "      yield {\n",
              "        response: {\n",
              "          action: 'append',\n",
              "          file: file.name,\n",
              "          data: base64,\n",
              "        },\n",
              "      };\n",
              "\n",
              "      let percentDone = fileData.byteLength === 0 ?\n",
              "          100 :\n",
              "          Math.round((position / fileData.byteLength) * 100);\n",
              "      percent.textContent = `${percentDone}% done`;\n",
              "\n",
              "    } while (position < fileData.byteLength);\n",
              "  }\n",
              "\n",
              "  // All done.\n",
              "  yield {\n",
              "    response: {\n",
              "      action: 'complete',\n",
              "    }\n",
              "  };\n",
              "}\n",
              "\n",
              "scope.google = scope.google || {};\n",
              "scope.google.colab = scope.google.colab || {};\n",
              "scope.google.colab._files = {\n",
              "  _uploadFiles,\n",
              "  _uploadFilesContinue,\n",
              "};\n",
              "})(self);\n",
              "</script> "
            ]
          },
          "metadata": {}
        },
        {
          "output_type": "stream",
          "name": "stdout",
          "text": [
            "Saving chocolate_rating.csv to chocolate_rating.csv\n"
          ]
        }
      ]
    },
    {
      "cell_type": "code",
      "source": [
        "# print( data )\n",
        "print( data.ndim )\n",
        "print( data.shape )\n",
        "print( data.size )"
      ],
      "metadata": {
        "colab": {
          "base_uri": "https://localhost:8080/"
        },
        "id": "kESmStf8dFrf",
        "outputId": "602aa15c-7788-4ad1-e0c9-a2f4ab1f2580"
      },
      "execution_count": null,
      "outputs": [
        {
          "output_type": "stream",
          "name": "stdout",
          "text": [
            "2\n",
            "(1795, 4)\n",
            "7180\n"
          ]
        }
      ]
    },
    {
      "cell_type": "code",
      "source": [
        "rating_mean = data[ :, 3 ].mean()\n",
        "# print( rating_mean )\n",
        "\n",
        "high_level =data[ data[:, 3] >= 4 ]\n",
        "# print( high_level[0:10]   )\n",
        "high_id = high_level[:, 0].astype( np.int64 )\n",
        "print( high_id )\n",
        "print( '우수초콜릿 수는?', high_id.size )"
      ],
      "metadata": {
        "colab": {
          "base_uri": "https://localhost:8080/"
        },
        "id": "SDb9ZH7Ie0sN",
        "outputId": "13e0f686-9915-45fc-a47f-3d51426a6b64"
      },
      "execution_count": null,
      "outputs": [
        {
          "output_type": "stream",
          "name": "stdout",
          "text": [
            "[  10   18   21   55   57   77   78   79   84   87   88   93  108  109\n",
            "  118  124  153  180  181  187  223  232  233  240  243  244  245  248\n",
            "  257  312  316  317  358  437  503  567  573  574  582  601  650  687\n",
            "  690  691  701  720  730  800  828  862  864  865  866  883  919  993\n",
            " 1088 1089 1118 1119 1120 1204 1241 1245 1247 1274 1277 1278 1289 1291\n",
            " 1293 1295 1323 1331 1336 1378 1394 1426 1428 1433 1479 1488 1513 1516\n",
            " 1529 1530 1531 1533 1536 1537 1544 1545 1664 1683 1686 1688 1694 1700\n",
            " 1740 1757]\n",
            "우수초콜릿 수는? 100\n"
          ]
        }
      ]
    },
    {
      "cell_type": "code",
      "source": [
        "high_kakao = high_level[: , 2 ]\n",
        "print( high_kakao )\n",
        "unique_values, value_counts = np.unique( high_kakao, return_counts=True )\n",
        "print( '카카오 함유량 ', unique_values)\n",
        "print('함유량별 빈도수 ', value_counts)"
      ],
      "metadata": {
        "colab": {
          "base_uri": "https://localhost:8080/"
        },
        "id": "Uno9IvsphRjS",
        "outputId": "0d908376-88d4-476e-8baf-bcb667cd8b63"
      },
      "execution_count": null,
      "outputs": [
        {
          "output_type": "stream",
          "name": "stdout",
          "text": [
            "[0.7  0.7  0.63 0.7  0.7  0.7  0.75 0.7  0.7  0.7  0.66 0.6  0.7  0.7\n",
            " 0.7  0.72 0.7  0.73 0.72 0.72 0.75 0.75 0.75 0.75 0.75 0.75 0.75 0.75\n",
            " 0.7  0.71 0.7  0.7  0.72 0.75 0.7  0.7  0.7  0.7  0.7  0.7  0.68 0.7\n",
            " 0.74 0.69 0.7  0.74 0.7  0.72 0.7  0.74 0.7  0.72 0.72 0.7  0.7  0.63\n",
            " 0.68 0.74 0.67 0.65 0.64 0.75 0.7  0.7  0.7  0.75 0.7  0.67 0.7  0.72\n",
            " 0.72 0.72 0.75 0.75 0.8  0.75 0.75 0.7  0.78 0.65 0.7  0.72 0.7  0.75\n",
            " 0.88 0.7  0.67 0.7  0.7  0.7  0.64 0.7  0.7  0.63 0.69 0.64 0.64 0.7\n",
            " 0.7  0.7 ]\n",
            "카카오 함유량  [0.6  0.63 0.64 0.65 0.66 0.67 0.68 0.69 0.7  0.71 0.72 0.73 0.74 0.75\n",
            " 0.78 0.8  0.88]\n",
            "함유량별 빈도수  [ 1  3  4  2  1  3  2  2 45  1 11  1  4 17  1  1  1]\n"
          ]
        }
      ]
    },
    {
      "cell_type": "code",
      "source": [
        "max_idx =np.argmax( value_counts )\n",
        "print( max_idx ) # 45의 인덱스 번호\n",
        "print( unique_values[ max_idx ] )\n",
        "print( '우수초콜릿', high_id.size, '가지 중', value_counts[ max_idx], '가지의 카카오 함유량이 ', unique_values[ max_idx ] * 100, '%입니다'  )"
      ],
      "metadata": {
        "colab": {
          "base_uri": "https://localhost:8080/"
        },
        "id": "FENlKpj6kDug",
        "outputId": "86d19a61-eb68-40b2-d746-0b403bd98da6"
      },
      "execution_count": null,
      "outputs": [
        {
          "output_type": "stream",
          "name": "stdout",
          "text": [
            "8\n",
            "0.7\n",
            "우수초콜릿 100 가지 중 45 가지의 카카오 함유량이  70.0 %입니다\n"
          ]
        }
      ]
    },
    {
      "cell_type": "markdown",
      "source": [
        "넌파이 복습문제-선생님 카페에 있는 문제"
      ],
      "metadata": {
        "id": "WDptLJ0pAOKt"
      }
    },
    {
      "cell_type": "code",
      "source": [
        "# 넘파이 모듈을 np라는 이름으로 임포트해보세요.\n",
        "import numpy as np\n",
        "# 2. 리스트를 넘파이의 ndarry 객체로 변환해보세요.\n",
        "data = [1,2,3]\n",
        "ndarray =np.array( data )\n",
        "print( '2', ndarray)\n",
        "# 3. 0부터 99까지의 정수가 저장된 ndarray 객체를 만들어 보세요( 힌트 arange)\n",
        "ndarray = np.arange(100)\n",
        "print( '3', ndarray)\n",
        "# 4. 구구단 3단의 결과가 저장된 gugu객체를 만들어 보세요 ( 힌트 arange)\n",
        "# gugu\n",
        "# [ 3 6 9 12 15 18 21 24 27]\n",
        "gugu = np.arange(1,10)*3\n",
        "print( '4', gugu)\n",
        "\n",
        "# 5. 1000보다 작은 짝수가 저장된 evenObj 객체를 만드시오 ( 힌트 arange)\n",
        "evenObj = np.arange( 2, 1000, 2)\n",
        "print( '5', evenObj)"
      ],
      "metadata": {
        "id": "nZSvlkr4AM91"
      },
      "execution_count": null,
      "outputs": []
    },
    {
      "cell_type": "code",
      "source": [
        "# 6. 0부터 1까지 0.1간격으로 구성된 aObj 객체를 만드시오 1은 포함되지 않습니다\n",
        "aObj = np.arange(0, 1, 0.1)\n",
        "print('6', aObj)\n",
        "# 7. 리스트에는 6개의 데이터가 저장되어 있습니다\n",
        "# 다음과 같이 2행 3열의 a7객체로 변환하세요\n",
        "# [[0 1 2]\n",
        "#  [3 4 5 ] ]\n",
        "# 힌트 reshape\n",
        "data=[0,1,2,3,4,5]\n",
        "a7 = np.array( data ).reshape( 2, 3 )\n",
        "print('7', a7)\n",
        "\n",
        "# 8. 다음의 2차원 a8 1차원 a81로 변환하세요 (힌트 reshape)\n",
        "a8 = np.array( [  [0,1,2],\n",
        "                  [3,4,5]\n",
        "                   ] )\n",
        "a81 = a8.reshape( 6 )\n",
        "print('8', a81)\n",
        "\n",
        "# 9. 주어진 a9를 다음과 같이 변경해 보세요\n",
        "a9 = np.arange(3) # [0 1 2 ]\n",
        "# [ [0]\n",
        "#   [1]\n",
        "#   [2] ]\n",
        "a9 = a9.reshape( 3, 1)\n",
        "print('9', a9)\n",
        "\n",
        "# 10. 아래 코드는 에러가 난다 이유는?\n",
        "# np.arange(6).reshape(2,4)\n",
        "\n",
        "# reshape(2,4)는 2행 4열입니다. 즉 8개의 원소가 있어야 한다.\n",
        "# arange(6)는 6개이므로 원소의 갯수가 맞지 않는다"
      ],
      "metadata": {
        "id": "DGGKrdxJCrkK"
      },
      "execution_count": null,
      "outputs": []
    },
    {
      "cell_type": "code",
      "source": [
        "# 11. 다음과 같이 2차원 a11객체를 만드세요\n",
        "data= [[0,1,2],\n",
        "       [3, 4, 5 ] ]\n",
        "a11 = np.array( data )\n",
        "print( '11', a11 )\n",
        "# 12. 1이 20개 저장된 아래의 a12객체를 만들어 보세요 (힌트 ones)\n",
        "# [ 1 1 1 1 1 1 1 1 1  1 1 1 1 1 1  1 1]\n",
        "a12 = np.ones(20, dtype=int)\n",
        "print( '12', a12 )\n",
        "\n",
        "# 13. 4행 5열로 저장된 아래의 a13객체를 만드시오\n",
        "#  [[1 1 1 1 1]\n",
        "#  [1 1 1 1 1]\n",
        "#  [1 1 1 1 1]\n",
        "#  [1 1 1 1 1]]\n",
        "a13 = np.ones( 20, dtype=int ).reshape( 4, 5)\n",
        "print( '13', a13 )\n",
        "# 14.  255로 채워진 10 X 10 크기의 a14 객체를 생성하시오\n",
        "a14 = np.ones( 100, dtype=int ).reshape(10,10)\n",
        "a14 = a14 * 255\n",
        "print( '14', a14 )\n",
        "# 15. 3 X 4 크기의 0으로 채워진 배열을 생성하시오 (힌트 zeros)\n",
        "a15=np.zeros( (3,4) )\n",
        "print( '15', a15 )"
      ],
      "metadata": {
        "colab": {
          "base_uri": "https://localhost:8080/"
        },
        "id": "60KiDpEuFsx6",
        "outputId": "55b593ad-f5cd-436f-ff5e-90fbc66c3044"
      },
      "execution_count": null,
      "outputs": [
        {
          "output_type": "stream",
          "name": "stdout",
          "text": [
            "11 [[0 1 2]\n",
            " [3 4 5]]\n",
            "12 [1 1 1 1 1 1 1 1 1 1 1 1 1 1 1 1 1 1 1 1]\n",
            "13 [[1 1 1 1 1]\n",
            " [1 1 1 1 1]\n",
            " [1 1 1 1 1]\n",
            " [1 1 1 1 1]]\n",
            "14 [[255 255 255 255 255 255 255 255 255 255]\n",
            " [255 255 255 255 255 255 255 255 255 255]\n",
            " [255 255 255 255 255 255 255 255 255 255]\n",
            " [255 255 255 255 255 255 255 255 255 255]\n",
            " [255 255 255 255 255 255 255 255 255 255]\n",
            " [255 255 255 255 255 255 255 255 255 255]\n",
            " [255 255 255 255 255 255 255 255 255 255]\n",
            " [255 255 255 255 255 255 255 255 255 255]\n",
            " [255 255 255 255 255 255 255 255 255 255]\n",
            " [255 255 255 255 255 255 255 255 255 255]]\n",
            "15 [[0. 0. 0. 0.]\n",
            " [0. 0. 0. 0.]\n",
            " [0. 0. 0. 0.]]\n"
          ]
        }
      ]
    },
    {
      "cell_type": "code",
      "source": [
        "# 16. [ 1, 2, 3 ]을 np.int32 타입의 a16 배열로 생성하시오(힌트 dtype)\n",
        "data=[1,2,3]\n",
        "a16 = np.array( data, dtype=np.int32 )\n",
        "print('16', a16)\n",
        "print('16 dtype', a16.dtype )\n",
        "# 17. 다음 배열의 데이터 타입을 확인해 보세요\n",
        "a17 = np.array([ 1, 2, 3 ] )\n",
        "print('17', a17.dtype)\n",
        "# 18.  다음 배열의 데이터 타입을 확인해 보세요\n",
        "a18 = np.array([ '1', '2', '3'] )\n",
        "print('18', a18.dtype) # '<U1' 1바이트 문자열이란 뜻\n",
        "# 19. 다음 데이터를 np.int16 타입의 배열로 형변환해 보세요\n",
        "a19 = np.array([ 1, 2, 3] )\n",
        "print( '19 기본자료형', a19.dtype )\n",
        "a19 = a19.astype( np.int16)\n",
        "print( '19 형변환한 자료형', a19.dtype )\n",
        "\n",
        "# 20. 300이 44로 출력되는 이유를 설명하세요\n",
        "a20 = np.array( [ 255, 300, 128], dtype=np.uint8 )\n",
        "print('20', a20)\n",
        "# a\n",
        "# [255  44 128]\n",
        "# 설명 300는 자료표현의 범위에서 벗어남(넘침) 다른 값이 출력"
      ],
      "metadata": {
        "colab": {
          "base_uri": "https://localhost:8080/"
        },
        "id": "e6SknI4yGCNZ",
        "outputId": "dc037591-ebb7-44ff-ef54-caa74a847818"
      },
      "execution_count": null,
      "outputs": [
        {
          "output_type": "stream",
          "name": "stdout",
          "text": [
            "16 [1 2 3]\n",
            "16 dtype int32\n",
            "17 int64\n",
            "18 <U1\n",
            "19 기본자료형 int64\n",
            "19 형변환한 자료형 int16\n",
            "20 [255  44 128]\n"
          ]
        },
        {
          "output_type": "stream",
          "name": "stderr",
          "text": [
            "<ipython-input-14-885ccc8554ee>:19: DeprecationWarning: NumPy will stop allowing conversion of out-of-bound Python integers to integer arrays.  The conversion of 300 to uint8 will fail in the future.\n",
            "For the old behavior, usually:\n",
            "    np.array(value).astype(dtype)\n",
            "will give the desired result (the cast overflows).\n",
            "  a20 = np.array( [ 255, 300, 128], dtype=np.uint8 )\n"
          ]
        }
      ]
    },
    {
      "cell_type": "code",
      "source": [
        "# 21. 힌트 astype\n",
        "# a21배열은 float64 타입입니다. 이를 np.int32타입으로 변경하세요.\n",
        "import numpy as np\n",
        "a21=np.array([ 1.1, 2.1, 3.1 ])\n",
        "a21 = a21.astype( np.int32 )\n",
        "print( '21', a21)\n",
        "print( '21 dtype', a21.dtype)\n",
        "\n",
        "# 22. 0~10사이 구간을 20개의 포인터로 분할한 결과를 a22객체로 생성하시오(힌트 linespace)\n",
        "# array([ 0.        ,  0.52631579,  1.05263158,  1.57894737,  2.10526316,\n",
        "#        2.63157895,  3.15789474,  3.68421053,  4.21052632,  4.73684211,\n",
        "#         5.26315789,  5.78947368,  6.31578947,  6.84210526,  7.36842105,\n",
        "#         7.89473684,  8.42105263,  8.94736842,  9.47368421, 10.        ])\n",
        "a22 = np.linspace( 0, 10, 20 )\n",
        "print( '22', a22)\n",
        "\n",
        "# 23.  아래 객체에서 마지막 행[6,7,8]을 출력해 보세요\n",
        "a23 = np.arange(9).reshape(3, 3)\n",
        "print( '23', a23[-1])\n",
        "\n",
        "# [[0 1 2]\n",
        "#  [3 4 5]\n",
        "#  [6 7 8]]\n",
        "\n",
        "\n",
        "# 24. 데이터 인덱싱\n",
        "# 아래 객체에서 마지막 17 출력해 보세요\n",
        "a24 = np.arange(25).reshape(5, 5)\n",
        "print( '24', a24[3,2])\n",
        "\n",
        "# [[ 0  1  2  3  4]\n",
        "#  [ 5  6  7  8  9]\n",
        "#  [10 11 12 13 14]\n",
        "#  [15 16 17 18 19]\n",
        "#  [20 21 22 23 24]]\n",
        "\n",
        "# 25. 슬라이싱\n",
        "# [1 3]을 슬라이싱 하세요\n",
        "a25= np.arange(5)\n",
        "print( '25', a25[1::2] ) # [시작인덱스:끝인덱스:증가인덱스]\n",
        "# [ 0  1  2  3  4]"
      ],
      "metadata": {
        "id": "eEQDV62sGVRZ"
      },
      "execution_count": null,
      "outputs": []
    },
    {
      "cell_type": "code",
      "source": [
        "# 26. [ 6 7 8 9]를 슬라이싱 하는 코드를 작성하기\n",
        "a26 = np.arange(25).reshape(5, 5)\n",
        "print('26', a26[1, 1: ])\n",
        "# [[ 0  1  2  3  4]\n",
        "#  [ 5  6  7  8  9]\n",
        "#  [10 11 12 13 14]\n",
        "#  [15 16 17 18 19]\n",
        "#  [20 21 22 23 24]]\n",
        "\n",
        "# 27. 첫번째와 두번째 컬럼을 슬라이싱하는 코드 작성\n",
        "a27 = np.arange(25).reshape(5, 5)\n",
        "print('27', a27[ : ,  :2  ])\n",
        "\n",
        "# [[ 0  1  2  3  4]\n",
        "#  [ 5  6  7  8  9]\n",
        "#  [10 11 12 13 14]\n",
        "#  [15 16 17 18 19]\n",
        "#  [20 21 22 23 24]]\n",
        "\n",
        "# 28.  6, 7,11, 12 를 2x2 ndarray로 슬라이싱하는 코드를 작성하세요.\n",
        "a28 = np.arange(25).reshape(5, 5)\n",
        "print('28', a28[ 1:3 , 1:3 ])\n",
        "\n",
        "# [[ 0  1  2  3  4]\n",
        "#  [ 5  6  7  8  9]\n",
        "#  [10 11 12 13 14]\n",
        "#  [15 16 17 18 19]\n",
        "#  [20 21 22 23 24]]\n",
        "\n",
        "# 29. 0 3 20 23 를 2x2 ndarray로 슬라이싱하는 코드를 작성하세요.\n",
        "a29 = np.arange(25).reshape(5, 5)\n",
        "print('29 정답', a29[ 0::4, 0::3  ])\n",
        "\n",
        "print('29', a29[ [0, 0, -1, -1 ], [ 0, 3, 0, 3 ] ])\n",
        "# a29([  [행1, 행2, 행3, 행4 ], [열1, 열2, 열3, 열4 ]  ])\n",
        "# 0의 값은 0행, 0열 [행1, 열1]이 조합되어서 구해짐\n",
        "# ?? 0::3, 0::4\n",
        "#[[ 0 1 2 3 4]\n",
        "# [ 5 6 7 8 9]\n",
        "# [10 11 12 13 14]\n",
        "# [15 16 17 18 19]\n",
        "# [20 21 22 23 24]]\n",
        "# ​\n",
        "# 문제 변형 10, 14, 21, 24\n",
        "print('29-문제변형', a29[ [ 2, 2, 4, 4   ], [ 0, 4, 1, 4  ] ].reshape( 2,2) )\n",
        "\n",
        "# 30 전체 데이터에 10을 곱한 결과를 a30에 저장하기\n",
        "data=[1,2,3]\n",
        "a30 = np.array( data ) * 10\n",
        "print( '30', a30 )"
      ],
      "metadata": {
        "colab": {
          "base_uri": "https://localhost:8080/"
        },
        "id": "MRQGlZxVGx5h",
        "outputId": "5637084c-0b28-4f7a-f177-273679e75d43"
      },
      "execution_count": null,
      "outputs": [
        {
          "output_type": "stream",
          "name": "stdout",
          "text": [
            "26 [6 7 8 9]\n",
            "27 [[ 0  1]\n",
            " [ 5  6]\n",
            " [10 11]\n",
            " [15 16]\n",
            " [20 21]]\n",
            "28 [[ 6  7]\n",
            " [11 12]]\n",
            "29-1 [[ 0  3]\n",
            " [20 23]]\n",
            "29 [ 0  3 20 23]\n",
            "29-문제변형 [[10 14]\n",
            " [21 24]]\n",
            "30 [10 20 30]\n"
          ]
        }
      ]
    },
    {
      "cell_type": "code",
      "source": [
        "# 31. 다음 a31에는 중간고사의 국어점수(10), 영어점수(20), 기말고사의 국어점수(14), 영어점수(16)이 저장되 있다\n",
        "a31 = np.array([\n",
        "    [10, 20],  # 중간고사\n",
        "    [14, 16]   # 기말고사\n",
        "])\n",
        "\n",
        "# 과목별 평균점수를 출력하세요\n",
        "# 결과 화면 [12. 18.]\n",
        "print('31', a31.mean(  axis=0 )  )\n",
        "\n",
        "# 32 31번 문제에서 표준편차를 구하세요\n",
        "print('32', a31.std(  axis=0 )  )\n",
        "\n",
        "# 33. 행과 열의 위치를 바꾼 행열을 전치행렬이라고 한다.\n",
        "a33 = np.arange(9).reshape(3,3)\n",
        "print('33-원래', a33)\n",
        "print('33-전치행열', a33.T) # 또는\n",
        "print('33-전치행열', a33.transpose() )\n",
        "\n",
        "# 33.  다음 배열에서 3보다 크고 7보다 작은 수만 출력하세요\n",
        "a33 = np.arange(10)\n",
        "print('33', a33[ ( a33 > 3 ) & ( a33 < 7 )  ] )\n",
        "\n",
        "# 34. 다음 객체에서 음수를 출력하세요\n",
        "a34 = np.array([ -1, 2, -3, 4] )\n",
        "print('34', a34[ ( a34 < 0 )])\n",
        "\n",
        "# 35. 다음 객체에서 음수를 0으로 바꾸세요\n",
        "a35 = np.array([ -1, 2, -3, 4] )\n",
        "a35[ a35 < 0 ] = 0\n",
        "print('35', a35)"
      ],
      "metadata": {
        "colab": {
          "base_uri": "https://localhost:8080/"
        },
        "id": "QtZHyoiaGrpZ",
        "outputId": "ae1289fa-f069-4e1b-9830-a724a776ca4a"
      },
      "execution_count": null,
      "outputs": [
        {
          "output_type": "stream",
          "name": "stdout",
          "text": [
            "31 [12. 18.]\n",
            "32 [2. 2.]\n",
            "33-원래 [[0 1 2]\n",
            " [3 4 5]\n",
            " [6 7 8]]\n",
            "33-전치행열 [[0 3 6]\n",
            " [1 4 7]\n",
            " [2 5 8]]\n",
            "33-전치행열 [[0 3 6]\n",
            " [1 4 7]\n",
            " [2 5 8]]\n",
            "33 [4 5 6]\n",
            "34 [-1 -3]\n",
            "35 [0 2 0 4]\n"
          ]
        }
      ]
    },
    {
      "cell_type": "code",
      "source": [
        "# 36.  다음 객체에서 음수를 양수로 바꾸세요\n",
        "a36 = np.array([ -1, 2, -3, 4] )\n",
        "# a36[ a36 < 0 ] = a36[ a36 < 0 ] * -1  방법1 음수를 찾아서 * -1을 한것\n",
        "print('36', np.abs( a36 ) ) # 방법2 abs() 절대값함수 사용\n",
        "\n",
        "# 37. 다음 객체에서 양수 혹은 0이면 10을 더하고 음수는 10을 빼세요\n",
        "a37 = np.array([ -1, 2, -3, 4] )\n",
        "a37[ a37 >= 0 ] = a37[ a37 >= 0 ] + 10\n",
        "a37[ a37 < 0 ] = a37[ a37 < 0 ] - 10\n",
        "print('37', a37)\n",
        "\n",
        "# 38. numpy random 모듈의 shuffle 함수를 사용해서 입력 리스트의 원소들을 랜덤하게 썩어 보세요\n",
        "a38 = [ 1,2,3,4,5 ]\n",
        "np.random.shuffle( a38 )\n",
        "print('38', a38 )\n",
        "\n",
        "# 39. 다음 넘파이 배열의 최소값의 인덱스를 출력하세요(힌트 argmin)\n",
        "\n",
        "a39 = np.array([ 1,2,3,4,5] )\n",
        "print('39', np.argmin( a39 )  )\n",
        "\n",
        "# 40. 다음 넘파이 배열의 최대값의 인덱스를 출력하세요(힌트 argmax)\n",
        "a40 = np.array([ 1,2,3,4,5] )\n",
        "print('40', np.argmax( a40 )  )\n",
        "\n",
        "# 41. 넘파이 배열을 오름차순 정렬해 보세요\n",
        "a41 = np.array([2, 1, 5, 3, 7, 4, 6, 8])\n",
        "print('41', np.sort( a41) )\n",
        "\n",
        "# 42. numpy.vstack 함수를 사용하여 다음 2차원 배열을 생성하세요\n",
        "\n",
        "arr1 = np.array([1, 2])\n",
        "arr2 = np.array([3, 4])\n",
        "a42 = np.vstack( ( arr1, arr2  )  )\n",
        "print('42', a42 )\n",
        "\n",
        "# 결과화면\n",
        "\n",
        "# array([[1, 2],\n",
        "#        [3, 4]])\n",
        "\n",
        "# 43. flatten 메소드를 이용하여 다음 배열을 1차원 배열로 변경하세요\n",
        "\n",
        "import numpy as np\n",
        "a43 = np.array([ [1, 2], [3, 4] ])\n",
        "# a43 = a43.flatten()\n",
        "a43 = a43.reshape( 4 )\n",
        "print('43', a43 )"
      ],
      "metadata": {
        "colab": {
          "base_uri": "https://localhost:8080/"
        },
        "id": "WKfcV4-aHdcZ",
        "outputId": "656d6a63-4dde-44b9-fb7f-fa2517b233cf"
      },
      "execution_count": null,
      "outputs": [
        {
          "output_type": "stream",
          "name": "stdout",
          "text": [
            "36 [1 2 3 4]\n",
            "37 [-11  12 -13  14]\n",
            "38 [3, 2, 4, 1, 5]\n",
            "39 0\n",
            "40 4\n",
            "41 [1 2 3 4 5 6 7 8]\n",
            "42 [[1 2]\n",
            " [3 4]]\n",
            "43 [1 2 3 4]\n"
          ]
        }
      ]
    }
  ]
}